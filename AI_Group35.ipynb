{
 "cells": [
  {
   "cell_type": "code",
   "execution_count": 1,
   "metadata": {
    "id": "Feyiexg8ikvA"
   },
   "outputs": [],
   "source": [
    "import pandas as pd\n",
    "import numpy as np\n",
    "import io"
   ]
  },
  {
   "cell_type": "code",
   "execution_count": null,
   "metadata": {
    "colab": {
     "base_uri": "https://localhost:8080/",
     "height": 38
    },
    "id": "y8e1ennErpoy",
    "outputId": "d238fd67-6300-42a7-ff11-b3f0e532a549"
   },
   "outputs": [],
   "source": []
  },
  {
   "cell_type": "code",
   "execution_count": 2,
   "metadata": {
    "colab": {
     "base_uri": "https://localhost:8080/"
    },
    "id": "mzyPQ5BYvSfg",
    "outputId": "9211377b-3895-4e67-a799-b6dbca29ab24"
   },
   "outputs": [
    {
     "name": "stderr",
     "output_type": "stream",
     "text": [
      "/tmp/ipykernel_31283/2373166978.py:1: DtypeWarning: Columns (25,108) have mixed types. Specify dtype option on import or set low_memory=False.\n",
      "  fifa = pd.read_csv('players_22.csv')\n"
     ]
    }
   ],
   "source": [
    "fifa = pd.read_csv('players_22.csv')"
   ]
  },
  {
   "cell_type": "code",
   "execution_count": 3,
   "metadata": {
    "colab": {
     "base_uri": "https://localhost:8080/",
     "height": 473
    },
    "id": "P7itBD-ppa3H",
    "outputId": "22ad0966-0968-412a-ee58-56751ab03e96"
   },
   "outputs": [
    {
     "data": {
      "text/html": [
       "<div>\n",
       "<style scoped>\n",
       "    .dataframe tbody tr th:only-of-type {\n",
       "        vertical-align: middle;\n",
       "    }\n",
       "\n",
       "    .dataframe tbody tr th {\n",
       "        vertical-align: top;\n",
       "    }\n",
       "\n",
       "    .dataframe thead th {\n",
       "        text-align: right;\n",
       "    }\n",
       "</style>\n",
       "<table border=\"1\" class=\"dataframe\">\n",
       "  <thead>\n",
       "    <tr style=\"text-align: right;\">\n",
       "      <th></th>\n",
       "      <th>sofifa_id</th>\n",
       "      <th>player_url</th>\n",
       "      <th>short_name</th>\n",
       "      <th>long_name</th>\n",
       "      <th>player_positions</th>\n",
       "      <th>overall</th>\n",
       "      <th>potential</th>\n",
       "      <th>value_eur</th>\n",
       "      <th>wage_eur</th>\n",
       "      <th>age</th>\n",
       "      <th>...</th>\n",
       "      <th>lcb</th>\n",
       "      <th>cb</th>\n",
       "      <th>rcb</th>\n",
       "      <th>rb</th>\n",
       "      <th>gk</th>\n",
       "      <th>player_face_url</th>\n",
       "      <th>club_logo_url</th>\n",
       "      <th>club_flag_url</th>\n",
       "      <th>nation_logo_url</th>\n",
       "      <th>nation_flag_url</th>\n",
       "    </tr>\n",
       "  </thead>\n",
       "  <tbody>\n",
       "    <tr>\n",
       "      <th>0</th>\n",
       "      <td>158023</td>\n",
       "      <td>https://sofifa.com/player/158023/lionel-messi/...</td>\n",
       "      <td>L. Messi</td>\n",
       "      <td>Lionel Andrés Messi Cuccittini</td>\n",
       "      <td>RW, ST, CF</td>\n",
       "      <td>93</td>\n",
       "      <td>93</td>\n",
       "      <td>78000000.0</td>\n",
       "      <td>320000.0</td>\n",
       "      <td>34</td>\n",
       "      <td>...</td>\n",
       "      <td>50+3</td>\n",
       "      <td>50+3</td>\n",
       "      <td>50+3</td>\n",
       "      <td>61+3</td>\n",
       "      <td>19+3</td>\n",
       "      <td>https://cdn.sofifa.net/players/158/023/22_120.png</td>\n",
       "      <td>https://cdn.sofifa.net/teams/73/60.png</td>\n",
       "      <td>https://cdn.sofifa.net/flags/fr.png</td>\n",
       "      <td>https://cdn.sofifa.net/teams/1369/60.png</td>\n",
       "      <td>https://cdn.sofifa.net/flags/ar.png</td>\n",
       "    </tr>\n",
       "    <tr>\n",
       "      <th>1</th>\n",
       "      <td>188545</td>\n",
       "      <td>https://sofifa.com/player/188545/robert-lewand...</td>\n",
       "      <td>R. Lewandowski</td>\n",
       "      <td>Robert Lewandowski</td>\n",
       "      <td>ST</td>\n",
       "      <td>92</td>\n",
       "      <td>92</td>\n",
       "      <td>119500000.0</td>\n",
       "      <td>270000.0</td>\n",
       "      <td>32</td>\n",
       "      <td>...</td>\n",
       "      <td>60+3</td>\n",
       "      <td>60+3</td>\n",
       "      <td>60+3</td>\n",
       "      <td>61+3</td>\n",
       "      <td>19+3</td>\n",
       "      <td>https://cdn.sofifa.net/players/188/545/22_120.png</td>\n",
       "      <td>https://cdn.sofifa.net/teams/21/60.png</td>\n",
       "      <td>https://cdn.sofifa.net/flags/de.png</td>\n",
       "      <td>https://cdn.sofifa.net/teams/1353/60.png</td>\n",
       "      <td>https://cdn.sofifa.net/flags/pl.png</td>\n",
       "    </tr>\n",
       "    <tr>\n",
       "      <th>2</th>\n",
       "      <td>20801</td>\n",
       "      <td>https://sofifa.com/player/20801/c-ronaldo-dos-...</td>\n",
       "      <td>Cristiano Ronaldo</td>\n",
       "      <td>Cristiano Ronaldo dos Santos Aveiro</td>\n",
       "      <td>ST, LW</td>\n",
       "      <td>91</td>\n",
       "      <td>91</td>\n",
       "      <td>45000000.0</td>\n",
       "      <td>270000.0</td>\n",
       "      <td>36</td>\n",
       "      <td>...</td>\n",
       "      <td>53+3</td>\n",
       "      <td>53+3</td>\n",
       "      <td>53+3</td>\n",
       "      <td>60+3</td>\n",
       "      <td>20+3</td>\n",
       "      <td>https://cdn.sofifa.net/players/020/801/22_120.png</td>\n",
       "      <td>https://cdn.sofifa.net/teams/11/60.png</td>\n",
       "      <td>https://cdn.sofifa.net/flags/gb-eng.png</td>\n",
       "      <td>https://cdn.sofifa.net/teams/1354/60.png</td>\n",
       "      <td>https://cdn.sofifa.net/flags/pt.png</td>\n",
       "    </tr>\n",
       "    <tr>\n",
       "      <th>3</th>\n",
       "      <td>190871</td>\n",
       "      <td>https://sofifa.com/player/190871/neymar-da-sil...</td>\n",
       "      <td>Neymar Jr</td>\n",
       "      <td>Neymar da Silva Santos Júnior</td>\n",
       "      <td>LW, CAM</td>\n",
       "      <td>91</td>\n",
       "      <td>91</td>\n",
       "      <td>129000000.0</td>\n",
       "      <td>270000.0</td>\n",
       "      <td>29</td>\n",
       "      <td>...</td>\n",
       "      <td>50+3</td>\n",
       "      <td>50+3</td>\n",
       "      <td>50+3</td>\n",
       "      <td>62+3</td>\n",
       "      <td>20+3</td>\n",
       "      <td>https://cdn.sofifa.net/players/190/871/22_120.png</td>\n",
       "      <td>https://cdn.sofifa.net/teams/73/60.png</td>\n",
       "      <td>https://cdn.sofifa.net/flags/fr.png</td>\n",
       "      <td>NaN</td>\n",
       "      <td>https://cdn.sofifa.net/flags/br.png</td>\n",
       "    </tr>\n",
       "    <tr>\n",
       "      <th>4</th>\n",
       "      <td>192985</td>\n",
       "      <td>https://sofifa.com/player/192985/kevin-de-bruy...</td>\n",
       "      <td>K. De Bruyne</td>\n",
       "      <td>Kevin De Bruyne</td>\n",
       "      <td>CM, CAM</td>\n",
       "      <td>91</td>\n",
       "      <td>91</td>\n",
       "      <td>125500000.0</td>\n",
       "      <td>350000.0</td>\n",
       "      <td>30</td>\n",
       "      <td>...</td>\n",
       "      <td>69+3</td>\n",
       "      <td>69+3</td>\n",
       "      <td>69+3</td>\n",
       "      <td>75+3</td>\n",
       "      <td>21+3</td>\n",
       "      <td>https://cdn.sofifa.net/players/192/985/22_120.png</td>\n",
       "      <td>https://cdn.sofifa.net/teams/10/60.png</td>\n",
       "      <td>https://cdn.sofifa.net/flags/gb-eng.png</td>\n",
       "      <td>https://cdn.sofifa.net/teams/1325/60.png</td>\n",
       "      <td>https://cdn.sofifa.net/flags/be.png</td>\n",
       "    </tr>\n",
       "  </tbody>\n",
       "</table>\n",
       "<p>5 rows × 110 columns</p>\n",
       "</div>"
      ],
      "text/plain": [
       "   sofifa_id                                         player_url  \\\n",
       "0     158023  https://sofifa.com/player/158023/lionel-messi/...   \n",
       "1     188545  https://sofifa.com/player/188545/robert-lewand...   \n",
       "2      20801  https://sofifa.com/player/20801/c-ronaldo-dos-...   \n",
       "3     190871  https://sofifa.com/player/190871/neymar-da-sil...   \n",
       "4     192985  https://sofifa.com/player/192985/kevin-de-bruy...   \n",
       "\n",
       "          short_name                            long_name player_positions  \\\n",
       "0           L. Messi       Lionel Andrés Messi Cuccittini       RW, ST, CF   \n",
       "1     R. Lewandowski                   Robert Lewandowski               ST   \n",
       "2  Cristiano Ronaldo  Cristiano Ronaldo dos Santos Aveiro           ST, LW   \n",
       "3          Neymar Jr        Neymar da Silva Santos Júnior          LW, CAM   \n",
       "4       K. De Bruyne                      Kevin De Bruyne          CM, CAM   \n",
       "\n",
       "   overall  potential    value_eur  wage_eur  age  ...   lcb    cb   rcb  \\\n",
       "0       93         93   78000000.0  320000.0   34  ...  50+3  50+3  50+3   \n",
       "1       92         92  119500000.0  270000.0   32  ...  60+3  60+3  60+3   \n",
       "2       91         91   45000000.0  270000.0   36  ...  53+3  53+3  53+3   \n",
       "3       91         91  129000000.0  270000.0   29  ...  50+3  50+3  50+3   \n",
       "4       91         91  125500000.0  350000.0   30  ...  69+3  69+3  69+3   \n",
       "\n",
       "     rb    gk                                    player_face_url  \\\n",
       "0  61+3  19+3  https://cdn.sofifa.net/players/158/023/22_120.png   \n",
       "1  61+3  19+3  https://cdn.sofifa.net/players/188/545/22_120.png   \n",
       "2  60+3  20+3  https://cdn.sofifa.net/players/020/801/22_120.png   \n",
       "3  62+3  20+3  https://cdn.sofifa.net/players/190/871/22_120.png   \n",
       "4  75+3  21+3  https://cdn.sofifa.net/players/192/985/22_120.png   \n",
       "\n",
       "                            club_logo_url  \\\n",
       "0  https://cdn.sofifa.net/teams/73/60.png   \n",
       "1  https://cdn.sofifa.net/teams/21/60.png   \n",
       "2  https://cdn.sofifa.net/teams/11/60.png   \n",
       "3  https://cdn.sofifa.net/teams/73/60.png   \n",
       "4  https://cdn.sofifa.net/teams/10/60.png   \n",
       "\n",
       "                             club_flag_url  \\\n",
       "0      https://cdn.sofifa.net/flags/fr.png   \n",
       "1      https://cdn.sofifa.net/flags/de.png   \n",
       "2  https://cdn.sofifa.net/flags/gb-eng.png   \n",
       "3      https://cdn.sofifa.net/flags/fr.png   \n",
       "4  https://cdn.sofifa.net/flags/gb-eng.png   \n",
       "\n",
       "                            nation_logo_url  \\\n",
       "0  https://cdn.sofifa.net/teams/1369/60.png   \n",
       "1  https://cdn.sofifa.net/teams/1353/60.png   \n",
       "2  https://cdn.sofifa.net/teams/1354/60.png   \n",
       "3                                       NaN   \n",
       "4  https://cdn.sofifa.net/teams/1325/60.png   \n",
       "\n",
       "                       nation_flag_url  \n",
       "0  https://cdn.sofifa.net/flags/ar.png  \n",
       "1  https://cdn.sofifa.net/flags/pl.png  \n",
       "2  https://cdn.sofifa.net/flags/pt.png  \n",
       "3  https://cdn.sofifa.net/flags/br.png  \n",
       "4  https://cdn.sofifa.net/flags/be.png  \n",
       "\n",
       "[5 rows x 110 columns]"
      ]
     },
     "execution_count": 3,
     "metadata": {},
     "output_type": "execute_result"
    }
   ],
   "source": [
    "# Printing the first 5 entries in the dataset \n",
    "# to see how the dataset looks like\n",
    "fifa.head()"
   ]
  },
  {
   "cell_type": "code",
   "execution_count": 4,
   "metadata": {
    "id": "MtT_4mxFUuWR"
   },
   "outputs": [],
   "source": [
    "# Finding the percentage of missing values in every column\n",
    "# and dropping the column that are more than 60% empty\n",
    "def missingData(data):\n",
    "    # Handling missing values\n",
    "    col = []\n",
    "    for c in data.columns:\n",
    "        missingVal = np.mean(data[c].isnull())*100\n",
    "        if missingVal > 60:\n",
    "            print('{} - {}%'.format(c, round(missingVal)))\n",
    "            col.append(c)\n",
    "    # Droping 60%+ empty columns\n",
    "    data.drop(columns = col ,inplace = True, axis=0)\n",
    "    \n",
    "    #Printing the dropped columns\n",
    "    print('Columns dropped :  \\n\\n',col) \n",
    "            "
   ]
  },
  {
   "cell_type": "code",
   "execution_count": 5,
   "metadata": {
    "colab": {
     "base_uri": "https://localhost:8080/"
    },
    "id": "AqEVmSImUuyB",
    "outputId": "823d6675-cd21-46db-9c18-26a78dca6739"
   },
   "outputs": [
    {
     "name": "stdout",
     "output_type": "stream",
     "text": [
      "club_loaned_from - 94%\n",
      "nation_team_id - 96%\n",
      "nation_position - 96%\n",
      "nation_jersey_number - 96%\n",
      "player_tags - 93%\n",
      "goalkeeping_speed - 89%\n",
      "nation_logo_url - 96%\n",
      "Columns dropped :  \n",
      "\n",
      " ['club_loaned_from', 'nation_team_id', 'nation_position', 'nation_jersey_number', 'player_tags', 'goalkeeping_speed', 'nation_logo_url']\n"
     ]
    }
   ],
   "source": [
    "# Calling the missingaData function \n",
    "# and passing our dataframe to it\n",
    "missingData(fifa)"
   ]
  },
  {
   "cell_type": "code",
   "execution_count": 6,
   "metadata": {
    "colab": {
     "base_uri": "https://localhost:8080/"
    },
    "id": "YVpy5iHUUvNj",
    "outputId": "44409936-2199-4339-b9fa-384d5927a040"
   },
   "outputs": [
    {
     "name": "stdout",
     "output_type": "stream",
     "text": [
      "After handling the missing values, the dataset has :  19239 rows and  103 columns\n"
     ]
    }
   ],
   "source": [
    "# Printing the structure of our dataframe \n",
    "# after dropping 60% + empty column\n",
    "print(\"After handling the missing values, the dataset has : \",fifa.shape[0],\"rows and \" ,fifa.shape[1],\"columns\")"
   ]
  },
  {
   "cell_type": "code",
   "execution_count": 7,
   "metadata": {
    "id": "i9b5CEQkUvoe"
   },
   "outputs": [],
   "source": [
    "# Imputing the dataframe\n",
    "def replace_missing_values(data1):\n",
    "    # Get the column names by data types\n",
    "    col_names = data1.columns\n",
    "    col_types = data1.dtypes\n",
    "\n",
    "    # Loop through each column and replace missing values\n",
    "    for i in range(len(col_names)):\n",
    "        col_name = col_names[i]\n",
    "        col_type = col_types[i]\n",
    "        \n",
    "        if col_type == 'object':\n",
    "            # For string columns, use bfill and ffill methods\n",
    "            data1[col_name] = data1[col_name].fillna(method='bfill').fillna(method='ffill')\n",
    "        else:\n",
    "            # For numerical columns, replace missing values with the mean of the column\n",
    "            data1[col_name] = data1[col_name].fillna(fifa[col_name].mean())\n",
    "    \n",
    "    \n"
   ]
  },
  {
   "cell_type": "code",
   "execution_count": 8,
   "metadata": {
    "id": "UBq4c-mCUwEw"
   },
   "outputs": [],
   "source": [
    "# Imputing all the missing cells\n",
    "replace_missing_values(fifa)\n"
   ]
  },
  {
   "cell_type": "code",
   "execution_count": 9,
   "metadata": {
    "colab": {
     "base_uri": "https://localhost:8080/"
    },
    "id": "lxdIDYM2Uwk-",
    "outputId": "956b72a0-2dda-4f37-e4af-ddaad966b864"
   },
   "outputs": [
    {
     "name": "stdout",
     "output_type": "stream",
     "text": [
      "0\n"
     ]
    }
   ],
   "source": [
    "# Get the count of missing values per row\n",
    "missing_per_row = fifa.isnull().sum(axis=1)\n",
    "\n",
    "# Get the total number of rows with missing values\n",
    "total_missing_rows = len(missing_per_row[missing_per_row > 0])\n",
    "\n",
    "print(total_missing_rows)"
   ]
  },
  {
   "cell_type": "markdown",
   "metadata": {
    "id": "B1lb5O1OX9TG"
   },
   "source": [
    "#### Count and Replace player positions\n",
    "If the player positions in the club is RES or SUB then his position will be replaced by the player's first position value"
   ]
  },
  {
   "cell_type": "code",
   "execution_count": 10,
   "metadata": {
    "id": "COwZY0FsX5bu"
   },
   "outputs": [],
   "source": [
    "# An array holding all positions features present in the dataframe\n",
    "POSITIONS = [  'ls' , 'st' , 'rs'  , 'lw' , 'lf'\n",
    "             , 'cf' , 'rf' , 'rw'  , 'lam', 'cam'\n",
    "             , 'ram', 'lm' , 'lcm' , 'cm' , 'rcm'\n",
    "             , 'rm' , 'lwb', 'ldm' , 'cdm', 'rdm'\n",
    "             , 'rwb', 'lb' , 'lcb' , 'cb' , 'rcb'\n",
    "             , 'rb' , 'gk']"
   ]
  },
  {
   "cell_type": "code",
   "execution_count": 11,
   "metadata": {
    "id": "3IyE-nkAYMHZ"
   },
   "outputs": [],
   "source": [
    "# Spliting information in cells on + or -\n",
    "def split_position_skill(position_skill):\n",
    "    parts = position_skill.split('+') if '+' in position_skill else position_skill.split('-') if '-' in position_skill else position_skill.split()\n",
    "    general = int(parts[0])\n",
    "    variation = 0 if len(parts) == 1 else int(parts[1]) if '+' in position_skill else -int(parts[1])\n",
    "    return general, variation"
   ]
  },
  {
   "cell_type": "code",
   "execution_count": 12,
   "metadata": {
    "colab": {
     "base_uri": "https://localhost:8080/"
    },
    "id": "F2VZiGalYV4S",
    "outputId": "528c6d53-90e0-42e5-db20-3da5625a6a89"
   },
   "outputs": [
    {
     "name": "stderr",
     "output_type": "stream",
     "text": [
      "<magic-timeit>:4: PerformanceWarning: DataFrame is highly fragmented.  This is usually the result of calling `frame.insert` many times, which has poor performance.  Consider joining all columns at once using pd.concat(axis=1) instead. To get a de-fragmented frame, use `newframe = frame.copy()`\n",
      "<magic-timeit>:4: PerformanceWarning: DataFrame is highly fragmented.  This is usually the result of calling `frame.insert` many times, which has poor performance.  Consider joining all columns at once using pd.concat(axis=1) instead. To get a de-fragmented frame, use `newframe = frame.copy()`\n",
      "<magic-timeit>:4: PerformanceWarning: DataFrame is highly fragmented.  This is usually the result of calling `frame.insert` many times, which has poor performance.  Consider joining all columns at once using pd.concat(axis=1) instead. To get a de-fragmented frame, use `newframe = frame.copy()`\n",
      "<magic-timeit>:4: PerformanceWarning: DataFrame is highly fragmented.  This is usually the result of calling `frame.insert` many times, which has poor performance.  Consider joining all columns at once using pd.concat(axis=1) instead. To get a de-fragmented frame, use `newframe = frame.copy()`\n",
      "<magic-timeit>:4: PerformanceWarning: DataFrame is highly fragmented.  This is usually the result of calling `frame.insert` many times, which has poor performance.  Consider joining all columns at once using pd.concat(axis=1) instead. To get a de-fragmented frame, use `newframe = frame.copy()`\n",
      "<magic-timeit>:4: PerformanceWarning: DataFrame is highly fragmented.  This is usually the result of calling `frame.insert` many times, which has poor performance.  Consider joining all columns at once using pd.concat(axis=1) instead. To get a de-fragmented frame, use `newframe = frame.copy()`\n",
      "<magic-timeit>:4: PerformanceWarning: DataFrame is highly fragmented.  This is usually the result of calling `frame.insert` many times, which has poor performance.  Consider joining all columns at once using pd.concat(axis=1) instead. To get a de-fragmented frame, use `newframe = frame.copy()`\n",
      "<magic-timeit>:4: PerformanceWarning: DataFrame is highly fragmented.  This is usually the result of calling `frame.insert` many times, which has poor performance.  Consider joining all columns at once using pd.concat(axis=1) instead. To get a de-fragmented frame, use `newframe = frame.copy()`\n",
      "<magic-timeit>:4: PerformanceWarning: DataFrame is highly fragmented.  This is usually the result of calling `frame.insert` many times, which has poor performance.  Consider joining all columns at once using pd.concat(axis=1) instead. To get a de-fragmented frame, use `newframe = frame.copy()`\n",
      "<magic-timeit>:4: PerformanceWarning: DataFrame is highly fragmented.  This is usually the result of calling `frame.insert` many times, which has poor performance.  Consider joining all columns at once using pd.concat(axis=1) instead. To get a de-fragmented frame, use `newframe = frame.copy()`\n",
      "<magic-timeit>:4: PerformanceWarning: DataFrame is highly fragmented.  This is usually the result of calling `frame.insert` many times, which has poor performance.  Consider joining all columns at once using pd.concat(axis=1) instead. To get a de-fragmented frame, use `newframe = frame.copy()`\n",
      "<magic-timeit>:4: PerformanceWarning: DataFrame is highly fragmented.  This is usually the result of calling `frame.insert` many times, which has poor performance.  Consider joining all columns at once using pd.concat(axis=1) instead. To get a de-fragmented frame, use `newframe = frame.copy()`\n",
      "<magic-timeit>:4: PerformanceWarning: DataFrame is highly fragmented.  This is usually the result of calling `frame.insert` many times, which has poor performance.  Consider joining all columns at once using pd.concat(axis=1) instead. To get a de-fragmented frame, use `newframe = frame.copy()`\n",
      "<magic-timeit>:4: PerformanceWarning: DataFrame is highly fragmented.  This is usually the result of calling `frame.insert` many times, which has poor performance.  Consider joining all columns at once using pd.concat(axis=1) instead. To get a de-fragmented frame, use `newframe = frame.copy()`\n",
      "<magic-timeit>:4: PerformanceWarning: DataFrame is highly fragmented.  This is usually the result of calling `frame.insert` many times, which has poor performance.  Consider joining all columns at once using pd.concat(axis=1) instead. To get a de-fragmented frame, use `newframe = frame.copy()`\n",
      "<magic-timeit>:4: PerformanceWarning: DataFrame is highly fragmented.  This is usually the result of calling `frame.insert` many times, which has poor performance.  Consider joining all columns at once using pd.concat(axis=1) instead. To get a de-fragmented frame, use `newframe = frame.copy()`\n",
      "<magic-timeit>:4: PerformanceWarning: DataFrame is highly fragmented.  This is usually the result of calling `frame.insert` many times, which has poor performance.  Consider joining all columns at once using pd.concat(axis=1) instead. To get a de-fragmented frame, use `newframe = frame.copy()`\n",
      "<magic-timeit>:4: PerformanceWarning: DataFrame is highly fragmented.  This is usually the result of calling `frame.insert` many times, which has poor performance.  Consider joining all columns at once using pd.concat(axis=1) instead. To get a de-fragmented frame, use `newframe = frame.copy()`\n",
      "<magic-timeit>:4: PerformanceWarning: DataFrame is highly fragmented.  This is usually the result of calling `frame.insert` many times, which has poor performance.  Consider joining all columns at once using pd.concat(axis=1) instead. To get a de-fragmented frame, use `newframe = frame.copy()`\n",
      "<magic-timeit>:4: PerformanceWarning: DataFrame is highly fragmented.  This is usually the result of calling `frame.insert` many times, which has poor performance.  Consider joining all columns at once using pd.concat(axis=1) instead. To get a de-fragmented frame, use `newframe = frame.copy()`\n",
      "<magic-timeit>:4: PerformanceWarning: DataFrame is highly fragmented.  This is usually the result of calling `frame.insert` many times, which has poor performance.  Consider joining all columns at once using pd.concat(axis=1) instead. To get a de-fragmented frame, use `newframe = frame.copy()`\n",
      "<magic-timeit>:4: PerformanceWarning: DataFrame is highly fragmented.  This is usually the result of calling `frame.insert` many times, which has poor performance.  Consider joining all columns at once using pd.concat(axis=1) instead. To get a de-fragmented frame, use `newframe = frame.copy()`\n",
      "<magic-timeit>:4: PerformanceWarning: DataFrame is highly fragmented.  This is usually the result of calling `frame.insert` many times, which has poor performance.  Consider joining all columns at once using pd.concat(axis=1) instead. To get a de-fragmented frame, use `newframe = frame.copy()`\n",
      "<magic-timeit>:4: PerformanceWarning: DataFrame is highly fragmented.  This is usually the result of calling `frame.insert` many times, which has poor performance.  Consider joining all columns at once using pd.concat(axis=1) instead. To get a de-fragmented frame, use `newframe = frame.copy()`\n",
      "<magic-timeit>:4: PerformanceWarning: DataFrame is highly fragmented.  This is usually the result of calling `frame.insert` many times, which has poor performance.  Consider joining all columns at once using pd.concat(axis=1) instead. To get a de-fragmented frame, use `newframe = frame.copy()`\n",
      "<magic-timeit>:4: PerformanceWarning: DataFrame is highly fragmented.  This is usually the result of calling `frame.insert` many times, which has poor performance.  Consider joining all columns at once using pd.concat(axis=1) instead. To get a de-fragmented frame, use `newframe = frame.copy()`\n"
     ]
    },
    {
     "name": "stdout",
     "output_type": "stream",
     "text": [
      "769 µs ± 166 µs per loop (mean ± std. dev. of 7 runs, 1 loop each)\n"
     ]
    },
    {
     "name": "stderr",
     "output_type": "stream",
     "text": [
      "<magic-timeit>:4: PerformanceWarning: DataFrame is highly fragmented.  This is usually the result of calling `frame.insert` many times, which has poor performance.  Consider joining all columns at once using pd.concat(axis=1) instead. To get a de-fragmented frame, use `newframe = frame.copy()`\n"
     ]
    }
   ],
   "source": [
    "%%timeit\n",
    "\n",
    "# Convert str to int\n",
    "for pos in POSITIONS:\n",
    "    try:\n",
    "        fifa[[pos, f'variation_{pos}']] = fifa[pos].apply(split_position_skill).apply(pd.Series)\n",
    "        fifa[pos] = fifa[pos] + fifa[f'variation_{pos}']\n",
    "        fifa.drop([f'variation_{pos}'], axis=1, inplace = True)\n",
    "    except:\n",
    "        break"
   ]
  },
  {
   "cell_type": "code",
   "execution_count": 13,
   "metadata": {
    "id": "rm3gmQ42Yqky"
   },
   "outputs": [],
   "source": [
    "# Creating a function to handle players positions feature\n",
    "# present in the dataset\n",
    "def player_position(data2):\n",
    "    data2['player_positions'] = data2['player_positions'].str.split(',')\n",
    "    sub_res_idx = data2.loc[(data2['club_position'] == 'SUB') | (data2['club_position'] == 'RES')].index\n",
    "    sub_res_new_positions = data2.loc[sub_res_idx]['player_positions'].str[0]\n",
    "    data2.loc[sub_res_idx, 'club_position'] = sub_res_new_positions\n",
    "    data2['player_positions_count'] = data2['player_positions'].str.len()\n",
    "    data2['player_positions_count'] = data2['player_positions'].str.len()\n",
    "    print(data2[['short_name', 'player_positions_count']].head())\n",
    "    data2[['short_name', 'player_positions_count']].head()"
   ]
  },
  {
   "cell_type": "code",
   "execution_count": 14,
   "metadata": {
    "colab": {
     "base_uri": "https://localhost:8080/"
    },
    "id": "Q_61z065Zgi4",
    "outputId": "f646b63b-4065-4871-868b-acd004bf3906"
   },
   "outputs": [
    {
     "name": "stdout",
     "output_type": "stream",
     "text": [
      "          short_name  player_positions_count\n",
      "0           L. Messi                       3\n",
      "1     R. Lewandowski                       1\n",
      "2  Cristiano Ronaldo                       2\n",
      "3          Neymar Jr                       2\n",
      "4       K. De Bruyne                       2\n"
     ]
    }
   ],
   "source": [
    "#Invoking player_positions with fifa\n",
    "player_position(fifa)"
   ]
  },
  {
   "cell_type": "markdown",
   "metadata": {
    "id": "llpeoPtKiT7v"
   },
   "source": [
    "### Encoding relevent categorical attributes"
   ]
  },
  {
   "cell_type": "code",
   "execution_count": 15,
   "metadata": {
    "id": "StrCuq7lZoPJ"
   },
   "outputs": [],
   "source": [
    "# Encoding relevent categorical attributes\n",
    "def encoding(data3):\n",
    "    work_rates = {'Low/Low':0,'Medium/Low':1,'Low/Medium':1,'Medium/Medium':2,'High/Low':3,'Low/High':3,'High/Medium':4,'Medium/High':4,'High/High':5}\n",
    "    data3['work_rate'] = data3['work_rate'].map(work_rates)\n",
    "\n",
    "    preferd_foot = {'Left':0,'Right':1}\n",
    "    data3['preferred_foot'] = data3['preferred_foot'].map(preferd_foot)\n",
    "\n",
    "    body_types = {'Normal (170-)':0,'Normal (185+)':0,'Normal (170-185)':0,'Lean (170-)':1,'Lean (185+)':1,'Lean (170-185)':1,'Stocky (170-)':3,'Stocky (185+)':3,'Stocky (170-185)':3, 'Unique':5}\n",
    "    data3['body_type'] = data3['body_type'].map(body_types) "
   ]
  },
  {
   "cell_type": "code",
   "execution_count": 16,
   "metadata": {
    "id": "BtKAGQX5ZtW_"
   },
   "outputs": [],
   "source": [
    "# Invoking encoding with fifa\n",
    "encoding(fifa)"
   ]
  },
  {
   "cell_type": "code",
   "execution_count": 17,
   "metadata": {
    "colab": {
     "base_uri": "https://localhost:8080/"
    },
    "id": "70LcUiXqaKqI",
    "outputId": "f2548bda-8a73-49da-de36-4c8c5027f204"
   },
   "outputs": [
    {
     "data": {
      "text/plain": [
       "0        0\n",
       "1        1\n",
       "2        1\n",
       "3        1\n",
       "4        1\n",
       "        ..\n",
       "19234    1\n",
       "19235    1\n",
       "19236    1\n",
       "19237    1\n",
       "19238    1\n",
       "Name: preferred_foot, Length: 19239, dtype: int64"
      ]
     },
     "execution_count": 17,
     "metadata": {},
     "output_type": "execute_result"
    }
   ],
   "source": [
    "#Testing to confirm the  encoding\n",
    "fifa['preferred_foot']"
   ]
  },
  {
   "cell_type": "code",
   "execution_count": 18,
   "metadata": {
    "id": "u-oW63ugjmii"
   },
   "outputs": [
    {
     "name": "stderr",
     "output_type": "stream",
     "text": [
      "/tmp/ipykernel_31283/1564082060.py:2: FutureWarning: The default value of numeric_only in DataFrame.corr is deprecated. In a future version, it will default to False. Select only valid columns or specify the value of numeric_only to silence this warning.\n",
      "  corr_matrix = fifa.corr()\n"
     ]
    }
   ],
   "source": [
    "#feature extraction process\n",
    "corr_matrix = fifa.corr()"
   ]
  },
  {
   "cell_type": "code",
   "execution_count": 19,
   "metadata": {
    "colab": {
     "base_uri": "https://localhost:8080/"
    },
    "id": "WbRujRZnlH9X",
    "outputId": "a638672d-11d8-4d3b-fa14-697050652ff8"
   },
   "outputs": [
    {
     "name": "stdout",
     "output_type": "stream",
     "text": [
      "overall                1.000000\n",
      "movement_reactions     0.871823\n",
      "mentality_composure    0.708867\n",
      "passing                0.663519\n",
      "potential              0.644275\n",
      "                         ...   \n",
      "nationality_id        -0.168315\n",
      "league_level          -0.178805\n",
      "club_jersey_number    -0.185930\n",
      "club_team_id          -0.226353\n",
      "sofifa_id             -0.491523\n",
      "Name: overall, Length: 88, dtype: float64\n"
     ]
    }
   ],
   "source": [
    "# Sorting in descending order the correlation \n",
    "# between overall and other features\n",
    "sortValues = corr_matrix['overall'].sort_values(ascending=False)\n",
    "print(sortValues)"
   ]
  },
  {
   "cell_type": "markdown",
   "metadata": {
    "id": "Bl4CI1jLjWhe"
   },
   "source": [
    "#### 2. Create feature subsets which show maximum correlation with the dependent variable."
   ]
  },
  {
   "cell_type": "code",
   "execution_count": 20,
   "metadata": {
    "id": "KH6tDm4djpRm"
   },
   "outputs": [],
   "source": [
    "# Selecting features with \n",
    "# absolute correlation greater than 0.4 [threshold correlation]\n",
    "high_corr_data = sortValues[sortValues > abs(0.45)]"
   ]
  },
  {
   "cell_type": "code",
   "execution_count": 21,
   "metadata": {
    "colab": {
     "base_uri": "https://localhost:8080/"
    },
    "id": "KcFx9Z9zjpOB",
    "outputId": "7a7f7096-c744-4020-fb31-74694e4a46fb"
   },
   "outputs": [
    {
     "name": "stdout",
     "output_type": "stream",
     "text": [
      "overall                     1.000000\n",
      "movement_reactions          0.871823\n",
      "mentality_composure         0.708867\n",
      "passing                     0.663519\n",
      "potential                   0.644275\n",
      "dribbling                   0.618419\n",
      "wage_eur                    0.601001\n",
      "power_shot_power            0.561180\n",
      "value_eur                   0.553823\n",
      "lcm                         0.545862\n",
      "rcm                         0.545862\n",
      "cm                          0.545862\n",
      "release_clause_eur          0.532528\n",
      "mentality_vision            0.523025\n",
      "attacking_short_passing     0.516788\n",
      "skill_long_passing          0.498216\n",
      "ram                         0.494720\n",
      "lam                         0.494720\n",
      "cam                         0.494720\n",
      "physic                      0.491127\n",
      "ls                          0.488558\n",
      "st                          0.488558\n",
      "rs                          0.488558\n",
      "rdm                         0.482607\n",
      "cdm                         0.482607\n",
      "ldm                         0.482607\n",
      "lf                          0.482157\n",
      "cf                          0.482157\n",
      "rf                          0.482157\n",
      "lm                          0.477604\n",
      "rm                          0.477604\n",
      "international_reputation    0.470647\n",
      "skill_ball_control          0.460411\n",
      "age                         0.459451\n",
      "rwb                         0.455642\n",
      "lwb                         0.455642\n",
      "rw                          0.454946\n",
      "lw                          0.454946\n",
      "shooting                    0.454368\n",
      "Name: overall, dtype: float64\n"
     ]
    }
   ],
   "source": [
    "# select columns with correlation greater than the threshold\n",
    "# select columns with correlation greater than the threshold\n",
    "print(high_corr_data)"
   ]
  },
  {
   "cell_type": "markdown",
   "metadata": {
    "id": "90eJttMzoeCp"
   },
   "source": [
    "### 4. Create and train a suitable machine learning model that can predict a player rating."
   ]
  },
  {
   "cell_type": "markdown",
   "metadata": {
    "id": "rtrHeksrorAP"
   },
   "source": [
    "### Training the model"
   ]
  },
  {
   "cell_type": "code",
   "execution_count": 22,
   "metadata": {
    "colab": {
     "base_uri": "https://localhost:8080/"
    },
    "id": "seERgKZIop-R",
    "outputId": "d50b2d2b-0507-4c1d-b618-92c8f8f2e21c"
   },
   "outputs": [
    {
     "data": {
      "text/plain": [
       "['overall',\n",
       " 'movement_reactions',\n",
       " 'mentality_composure',\n",
       " 'passing',\n",
       " 'potential',\n",
       " 'dribbling',\n",
       " 'wage_eur',\n",
       " 'power_shot_power',\n",
       " 'value_eur',\n",
       " 'lcm',\n",
       " 'rcm',\n",
       " 'cm',\n",
       " 'release_clause_eur',\n",
       " 'mentality_vision',\n",
       " 'attacking_short_passing',\n",
       " 'skill_long_passing',\n",
       " 'ram',\n",
       " 'lam',\n",
       " 'cam',\n",
       " 'physic',\n",
       " 'ls',\n",
       " 'st',\n",
       " 'rs',\n",
       " 'rdm',\n",
       " 'cdm',\n",
       " 'ldm',\n",
       " 'lf',\n",
       " 'cf',\n",
       " 'rf',\n",
       " 'lm',\n",
       " 'rm',\n",
       " 'international_reputation',\n",
       " 'skill_ball_control',\n",
       " 'age',\n",
       " 'rwb',\n",
       " 'lwb',\n",
       " 'rw',\n",
       " 'lw',\n",
       " 'shooting']"
      ]
     },
     "execution_count": 22,
     "metadata": {},
     "output_type": "execute_result"
    }
   ],
   "source": [
    "#Extracting features with higher correlation\n",
    "features =  high_corr_data.index.tolist()\n",
    "features"
   ]
  },
  {
   "cell_type": "code",
   "execution_count": 23,
   "metadata": {
    "colab": {
     "base_uri": "https://localhost:8080/",
     "height": 300
    },
    "id": "ertiw0qhjpLB",
    "outputId": "6d6454a9-88c9-4380-e065-2e523973552f"
   },
   "outputs": [
    {
     "data": {
      "text/html": [
       "<div>\n",
       "<style scoped>\n",
       "    .dataframe tbody tr th:only-of-type {\n",
       "        vertical-align: middle;\n",
       "    }\n",
       "\n",
       "    .dataframe tbody tr th {\n",
       "        vertical-align: top;\n",
       "    }\n",
       "\n",
       "    .dataframe thead th {\n",
       "        text-align: right;\n",
       "    }\n",
       "</style>\n",
       "<table border=\"1\" class=\"dataframe\">\n",
       "  <thead>\n",
       "    <tr style=\"text-align: right;\">\n",
       "      <th></th>\n",
       "      <th>overall</th>\n",
       "      <th>movement_reactions</th>\n",
       "      <th>mentality_composure</th>\n",
       "      <th>passing</th>\n",
       "      <th>potential</th>\n",
       "      <th>dribbling</th>\n",
       "      <th>wage_eur</th>\n",
       "      <th>power_shot_power</th>\n",
       "      <th>value_eur</th>\n",
       "      <th>lcm</th>\n",
       "      <th>...</th>\n",
       "      <th>lm</th>\n",
       "      <th>rm</th>\n",
       "      <th>international_reputation</th>\n",
       "      <th>skill_ball_control</th>\n",
       "      <th>age</th>\n",
       "      <th>rwb</th>\n",
       "      <th>lwb</th>\n",
       "      <th>rw</th>\n",
       "      <th>lw</th>\n",
       "      <th>shooting</th>\n",
       "    </tr>\n",
       "  </thead>\n",
       "  <tbody>\n",
       "    <tr>\n",
       "      <th>0</th>\n",
       "      <td>93</td>\n",
       "      <td>94</td>\n",
       "      <td>96</td>\n",
       "      <td>91.0</td>\n",
       "      <td>93</td>\n",
       "      <td>95.0</td>\n",
       "      <td>320000.0</td>\n",
       "      <td>86</td>\n",
       "      <td>78000000.0</td>\n",
       "      <td>90</td>\n",
       "      <td>...</td>\n",
       "      <td>93</td>\n",
       "      <td>93</td>\n",
       "      <td>5</td>\n",
       "      <td>96</td>\n",
       "      <td>34</td>\n",
       "      <td>69</td>\n",
       "      <td>69</td>\n",
       "      <td>92</td>\n",
       "      <td>92</td>\n",
       "      <td>92.0</td>\n",
       "    </tr>\n",
       "    <tr>\n",
       "      <th>1</th>\n",
       "      <td>92</td>\n",
       "      <td>93</td>\n",
       "      <td>88</td>\n",
       "      <td>79.0</td>\n",
       "      <td>92</td>\n",
       "      <td>86.0</td>\n",
       "      <td>270000.0</td>\n",
       "      <td>90</td>\n",
       "      <td>119500000.0</td>\n",
       "      <td>83</td>\n",
       "      <td>...</td>\n",
       "      <td>87</td>\n",
       "      <td>87</td>\n",
       "      <td>5</td>\n",
       "      <td>88</td>\n",
       "      <td>32</td>\n",
       "      <td>67</td>\n",
       "      <td>67</td>\n",
       "      <td>85</td>\n",
       "      <td>85</td>\n",
       "      <td>92.0</td>\n",
       "    </tr>\n",
       "    <tr>\n",
       "      <th>2</th>\n",
       "      <td>91</td>\n",
       "      <td>94</td>\n",
       "      <td>95</td>\n",
       "      <td>80.0</td>\n",
       "      <td>91</td>\n",
       "      <td>88.0</td>\n",
       "      <td>270000.0</td>\n",
       "      <td>94</td>\n",
       "      <td>45000000.0</td>\n",
       "      <td>81</td>\n",
       "      <td>...</td>\n",
       "      <td>89</td>\n",
       "      <td>89</td>\n",
       "      <td>5</td>\n",
       "      <td>88</td>\n",
       "      <td>36</td>\n",
       "      <td>66</td>\n",
       "      <td>66</td>\n",
       "      <td>88</td>\n",
       "      <td>88</td>\n",
       "      <td>94.0</td>\n",
       "    </tr>\n",
       "    <tr>\n",
       "      <th>3</th>\n",
       "      <td>91</td>\n",
       "      <td>89</td>\n",
       "      <td>93</td>\n",
       "      <td>86.0</td>\n",
       "      <td>91</td>\n",
       "      <td>94.0</td>\n",
       "      <td>270000.0</td>\n",
       "      <td>80</td>\n",
       "      <td>129000000.0</td>\n",
       "      <td>85</td>\n",
       "      <td>...</td>\n",
       "      <td>91</td>\n",
       "      <td>91</td>\n",
       "      <td>5</td>\n",
       "      <td>95</td>\n",
       "      <td>29</td>\n",
       "      <td>70</td>\n",
       "      <td>70</td>\n",
       "      <td>90</td>\n",
       "      <td>90</td>\n",
       "      <td>83.0</td>\n",
       "    </tr>\n",
       "    <tr>\n",
       "      <th>4</th>\n",
       "      <td>91</td>\n",
       "      <td>91</td>\n",
       "      <td>89</td>\n",
       "      <td>93.0</td>\n",
       "      <td>91</td>\n",
       "      <td>88.0</td>\n",
       "      <td>350000.0</td>\n",
       "      <td>91</td>\n",
       "      <td>125500000.0</td>\n",
       "      <td>91</td>\n",
       "      <td>...</td>\n",
       "      <td>91</td>\n",
       "      <td>91</td>\n",
       "      <td>4</td>\n",
       "      <td>91</td>\n",
       "      <td>30</td>\n",
       "      <td>82</td>\n",
       "      <td>82</td>\n",
       "      <td>88</td>\n",
       "      <td>88</td>\n",
       "      <td>86.0</td>\n",
       "    </tr>\n",
       "  </tbody>\n",
       "</table>\n",
       "<p>5 rows × 39 columns</p>\n",
       "</div>"
      ],
      "text/plain": [
       "   overall  movement_reactions  mentality_composure  passing  potential  \\\n",
       "0       93                  94                   96     91.0         93   \n",
       "1       92                  93                   88     79.0         92   \n",
       "2       91                  94                   95     80.0         91   \n",
       "3       91                  89                   93     86.0         91   \n",
       "4       91                  91                   89     93.0         91   \n",
       "\n",
       "   dribbling  wage_eur  power_shot_power    value_eur  lcm  ...  lm  rm  \\\n",
       "0       95.0  320000.0                86   78000000.0   90  ...  93  93   \n",
       "1       86.0  270000.0                90  119500000.0   83  ...  87  87   \n",
       "2       88.0  270000.0                94   45000000.0   81  ...  89  89   \n",
       "3       94.0  270000.0                80  129000000.0   85  ...  91  91   \n",
       "4       88.0  350000.0                91  125500000.0   91  ...  91  91   \n",
       "\n",
       "   international_reputation  skill_ball_control  age  rwb  lwb  rw  lw  \\\n",
       "0                         5                  96   34   69   69  92  92   \n",
       "1                         5                  88   32   67   67  85  85   \n",
       "2                         5                  88   36   66   66  88  88   \n",
       "3                         5                  95   29   70   70  90  90   \n",
       "4                         4                  91   30   82   82  88  88   \n",
       "\n",
       "   shooting  \n",
       "0      92.0  \n",
       "1      92.0  \n",
       "2      94.0  \n",
       "3      83.0  \n",
       "4      86.0  \n",
       "\n",
       "[5 rows x 39 columns]"
      ]
     },
     "execution_count": 23,
     "metadata": {},
     "output_type": "execute_result"
    }
   ],
   "source": [
    "#Creating a new datasset with selected features\n",
    "trainingData = fifa[features]\n",
    "trainingData.head()"
   ]
  },
  {
   "cell_type": "code",
   "execution_count": 24,
   "metadata": {
    "colab": {
     "base_uri": "https://localhost:8080/",
     "height": 488
    },
    "id": "kzhTmsYZjpIT",
    "outputId": "5630ac30-b74f-450b-cae6-0b3d65edc824"
   },
   "outputs": [
    {
     "data": {
      "text/html": [
       "<div>\n",
       "<style scoped>\n",
       "    .dataframe tbody tr th:only-of-type {\n",
       "        vertical-align: middle;\n",
       "    }\n",
       "\n",
       "    .dataframe tbody tr th {\n",
       "        vertical-align: top;\n",
       "    }\n",
       "\n",
       "    .dataframe thead th {\n",
       "        text-align: right;\n",
       "    }\n",
       "</style>\n",
       "<table border=\"1\" class=\"dataframe\">\n",
       "  <thead>\n",
       "    <tr style=\"text-align: right;\">\n",
       "      <th></th>\n",
       "      <th>movement_reactions</th>\n",
       "      <th>mentality_composure</th>\n",
       "      <th>passing</th>\n",
       "      <th>potential</th>\n",
       "      <th>dribbling</th>\n",
       "      <th>wage_eur</th>\n",
       "      <th>power_shot_power</th>\n",
       "      <th>value_eur</th>\n",
       "      <th>lcm</th>\n",
       "      <th>rcm</th>\n",
       "      <th>...</th>\n",
       "      <th>lm</th>\n",
       "      <th>rm</th>\n",
       "      <th>international_reputation</th>\n",
       "      <th>skill_ball_control</th>\n",
       "      <th>age</th>\n",
       "      <th>rwb</th>\n",
       "      <th>lwb</th>\n",
       "      <th>rw</th>\n",
       "      <th>lw</th>\n",
       "      <th>shooting</th>\n",
       "    </tr>\n",
       "  </thead>\n",
       "  <tbody>\n",
       "    <tr>\n",
       "      <th>0</th>\n",
       "      <td>94</td>\n",
       "      <td>96</td>\n",
       "      <td>91.0</td>\n",
       "      <td>93</td>\n",
       "      <td>95.0</td>\n",
       "      <td>320000.0</td>\n",
       "      <td>86</td>\n",
       "      <td>78000000.0</td>\n",
       "      <td>90</td>\n",
       "      <td>90</td>\n",
       "      <td>...</td>\n",
       "      <td>93</td>\n",
       "      <td>93</td>\n",
       "      <td>5</td>\n",
       "      <td>96</td>\n",
       "      <td>34</td>\n",
       "      <td>69</td>\n",
       "      <td>69</td>\n",
       "      <td>92</td>\n",
       "      <td>92</td>\n",
       "      <td>92.0</td>\n",
       "    </tr>\n",
       "    <tr>\n",
       "      <th>1</th>\n",
       "      <td>93</td>\n",
       "      <td>88</td>\n",
       "      <td>79.0</td>\n",
       "      <td>92</td>\n",
       "      <td>86.0</td>\n",
       "      <td>270000.0</td>\n",
       "      <td>90</td>\n",
       "      <td>119500000.0</td>\n",
       "      <td>83</td>\n",
       "      <td>83</td>\n",
       "      <td>...</td>\n",
       "      <td>87</td>\n",
       "      <td>87</td>\n",
       "      <td>5</td>\n",
       "      <td>88</td>\n",
       "      <td>32</td>\n",
       "      <td>67</td>\n",
       "      <td>67</td>\n",
       "      <td>85</td>\n",
       "      <td>85</td>\n",
       "      <td>92.0</td>\n",
       "    </tr>\n",
       "    <tr>\n",
       "      <th>2</th>\n",
       "      <td>94</td>\n",
       "      <td>95</td>\n",
       "      <td>80.0</td>\n",
       "      <td>91</td>\n",
       "      <td>88.0</td>\n",
       "      <td>270000.0</td>\n",
       "      <td>94</td>\n",
       "      <td>45000000.0</td>\n",
       "      <td>81</td>\n",
       "      <td>81</td>\n",
       "      <td>...</td>\n",
       "      <td>89</td>\n",
       "      <td>89</td>\n",
       "      <td>5</td>\n",
       "      <td>88</td>\n",
       "      <td>36</td>\n",
       "      <td>66</td>\n",
       "      <td>66</td>\n",
       "      <td>88</td>\n",
       "      <td>88</td>\n",
       "      <td>94.0</td>\n",
       "    </tr>\n",
       "    <tr>\n",
       "      <th>3</th>\n",
       "      <td>89</td>\n",
       "      <td>93</td>\n",
       "      <td>86.0</td>\n",
       "      <td>91</td>\n",
       "      <td>94.0</td>\n",
       "      <td>270000.0</td>\n",
       "      <td>80</td>\n",
       "      <td>129000000.0</td>\n",
       "      <td>85</td>\n",
       "      <td>85</td>\n",
       "      <td>...</td>\n",
       "      <td>91</td>\n",
       "      <td>91</td>\n",
       "      <td>5</td>\n",
       "      <td>95</td>\n",
       "      <td>29</td>\n",
       "      <td>70</td>\n",
       "      <td>70</td>\n",
       "      <td>90</td>\n",
       "      <td>90</td>\n",
       "      <td>83.0</td>\n",
       "    </tr>\n",
       "    <tr>\n",
       "      <th>4</th>\n",
       "      <td>91</td>\n",
       "      <td>89</td>\n",
       "      <td>93.0</td>\n",
       "      <td>91</td>\n",
       "      <td>88.0</td>\n",
       "      <td>350000.0</td>\n",
       "      <td>91</td>\n",
       "      <td>125500000.0</td>\n",
       "      <td>91</td>\n",
       "      <td>91</td>\n",
       "      <td>...</td>\n",
       "      <td>91</td>\n",
       "      <td>91</td>\n",
       "      <td>4</td>\n",
       "      <td>91</td>\n",
       "      <td>30</td>\n",
       "      <td>82</td>\n",
       "      <td>82</td>\n",
       "      <td>88</td>\n",
       "      <td>88</td>\n",
       "      <td>86.0</td>\n",
       "    </tr>\n",
       "    <tr>\n",
       "      <th>...</th>\n",
       "      <td>...</td>\n",
       "      <td>...</td>\n",
       "      <td>...</td>\n",
       "      <td>...</td>\n",
       "      <td>...</td>\n",
       "      <td>...</td>\n",
       "      <td>...</td>\n",
       "      <td>...</td>\n",
       "      <td>...</td>\n",
       "      <td>...</td>\n",
       "      <td>...</td>\n",
       "      <td>...</td>\n",
       "      <td>...</td>\n",
       "      <td>...</td>\n",
       "      <td>...</td>\n",
       "      <td>...</td>\n",
       "      <td>...</td>\n",
       "      <td>...</td>\n",
       "      <td>...</td>\n",
       "      <td>...</td>\n",
       "      <td>...</td>\n",
       "    </tr>\n",
       "    <tr>\n",
       "      <th>19234</th>\n",
       "      <td>53</td>\n",
       "      <td>37</td>\n",
       "      <td>46.0</td>\n",
       "      <td>52</td>\n",
       "      <td>48.0</td>\n",
       "      <td>1000.0</td>\n",
       "      <td>46</td>\n",
       "      <td>70000.0</td>\n",
       "      <td>48</td>\n",
       "      <td>48</td>\n",
       "      <td>...</td>\n",
       "      <td>49</td>\n",
       "      <td>49</td>\n",
       "      <td>1</td>\n",
       "      <td>49</td>\n",
       "      <td>22</td>\n",
       "      <td>50</td>\n",
       "      <td>50</td>\n",
       "      <td>46</td>\n",
       "      <td>46</td>\n",
       "      <td>35.0</td>\n",
       "    </tr>\n",
       "    <tr>\n",
       "      <th>19235</th>\n",
       "      <td>49</td>\n",
       "      <td>47</td>\n",
       "      <td>50.0</td>\n",
       "      <td>59</td>\n",
       "      <td>46.0</td>\n",
       "      <td>500.0</td>\n",
       "      <td>49</td>\n",
       "      <td>110000.0</td>\n",
       "      <td>49</td>\n",
       "      <td>49</td>\n",
       "      <td>...</td>\n",
       "      <td>51</td>\n",
       "      <td>51</td>\n",
       "      <td>1</td>\n",
       "      <td>42</td>\n",
       "      <td>19</td>\n",
       "      <td>51</td>\n",
       "      <td>51</td>\n",
       "      <td>47</td>\n",
       "      <td>47</td>\n",
       "      <td>39.0</td>\n",
       "    </tr>\n",
       "    <tr>\n",
       "      <th>19236</th>\n",
       "      <td>46</td>\n",
       "      <td>36</td>\n",
       "      <td>45.0</td>\n",
       "      <td>55</td>\n",
       "      <td>49.0</td>\n",
       "      <td>500.0</td>\n",
       "      <td>50</td>\n",
       "      <td>100000.0</td>\n",
       "      <td>49</td>\n",
       "      <td>49</td>\n",
       "      <td>...</td>\n",
       "      <td>50</td>\n",
       "      <td>50</td>\n",
       "      <td>1</td>\n",
       "      <td>49</td>\n",
       "      <td>21</td>\n",
       "      <td>49</td>\n",
       "      <td>49</td>\n",
       "      <td>46</td>\n",
       "      <td>46</td>\n",
       "      <td>37.0</td>\n",
       "    </tr>\n",
       "    <tr>\n",
       "      <th>19237</th>\n",
       "      <td>48</td>\n",
       "      <td>47</td>\n",
       "      <td>36.0</td>\n",
       "      <td>60</td>\n",
       "      <td>48.0</td>\n",
       "      <td>500.0</td>\n",
       "      <td>48</td>\n",
       "      <td>110000.0</td>\n",
       "      <td>41</td>\n",
       "      <td>41</td>\n",
       "      <td>...</td>\n",
       "      <td>47</td>\n",
       "      <td>47</td>\n",
       "      <td>1</td>\n",
       "      <td>45</td>\n",
       "      <td>19</td>\n",
       "      <td>35</td>\n",
       "      <td>35</td>\n",
       "      <td>47</td>\n",
       "      <td>47</td>\n",
       "      <td>46.0</td>\n",
       "    </tr>\n",
       "    <tr>\n",
       "      <th>19238</th>\n",
       "      <td>54</td>\n",
       "      <td>36</td>\n",
       "      <td>45.0</td>\n",
       "      <td>60</td>\n",
       "      <td>48.0</td>\n",
       "      <td>500.0</td>\n",
       "      <td>50</td>\n",
       "      <td>110000.0</td>\n",
       "      <td>48</td>\n",
       "      <td>48</td>\n",
       "      <td>...</td>\n",
       "      <td>50</td>\n",
       "      <td>50</td>\n",
       "      <td>1</td>\n",
       "      <td>38</td>\n",
       "      <td>19</td>\n",
       "      <td>47</td>\n",
       "      <td>47</td>\n",
       "      <td>47</td>\n",
       "      <td>47</td>\n",
       "      <td>38.0</td>\n",
       "    </tr>\n",
       "  </tbody>\n",
       "</table>\n",
       "<p>19239 rows × 38 columns</p>\n",
       "</div>"
      ],
      "text/plain": [
       "       movement_reactions  mentality_composure  passing  potential  dribbling  \\\n",
       "0                      94                   96     91.0         93       95.0   \n",
       "1                      93                   88     79.0         92       86.0   \n",
       "2                      94                   95     80.0         91       88.0   \n",
       "3                      89                   93     86.0         91       94.0   \n",
       "4                      91                   89     93.0         91       88.0   \n",
       "...                   ...                  ...      ...        ...        ...   \n",
       "19234                  53                   37     46.0         52       48.0   \n",
       "19235                  49                   47     50.0         59       46.0   \n",
       "19236                  46                   36     45.0         55       49.0   \n",
       "19237                  48                   47     36.0         60       48.0   \n",
       "19238                  54                   36     45.0         60       48.0   \n",
       "\n",
       "       wage_eur  power_shot_power    value_eur  lcm  rcm  ...  lm  rm  \\\n",
       "0      320000.0                86   78000000.0   90   90  ...  93  93   \n",
       "1      270000.0                90  119500000.0   83   83  ...  87  87   \n",
       "2      270000.0                94   45000000.0   81   81  ...  89  89   \n",
       "3      270000.0                80  129000000.0   85   85  ...  91  91   \n",
       "4      350000.0                91  125500000.0   91   91  ...  91  91   \n",
       "...         ...               ...          ...  ...  ...  ...  ..  ..   \n",
       "19234    1000.0                46      70000.0   48   48  ...  49  49   \n",
       "19235     500.0                49     110000.0   49   49  ...  51  51   \n",
       "19236     500.0                50     100000.0   49   49  ...  50  50   \n",
       "19237     500.0                48     110000.0   41   41  ...  47  47   \n",
       "19238     500.0                50     110000.0   48   48  ...  50  50   \n",
       "\n",
       "       international_reputation  skill_ball_control  age  rwb  lwb  rw  lw  \\\n",
       "0                             5                  96   34   69   69  92  92   \n",
       "1                             5                  88   32   67   67  85  85   \n",
       "2                             5                  88   36   66   66  88  88   \n",
       "3                             5                  95   29   70   70  90  90   \n",
       "4                             4                  91   30   82   82  88  88   \n",
       "...                         ...                 ...  ...  ...  ...  ..  ..   \n",
       "19234                         1                  49   22   50   50  46  46   \n",
       "19235                         1                  42   19   51   51  47  47   \n",
       "19236                         1                  49   21   49   49  46  46   \n",
       "19237                         1                  45   19   35   35  47  47   \n",
       "19238                         1                  38   19   47   47  47  47   \n",
       "\n",
       "       shooting  \n",
       "0          92.0  \n",
       "1          92.0  \n",
       "2          94.0  \n",
       "3          83.0  \n",
       "4          86.0  \n",
       "...         ...  \n",
       "19234      35.0  \n",
       "19235      39.0  \n",
       "19236      37.0  \n",
       "19237      46.0  \n",
       "19238      38.0  \n",
       "\n",
       "[19239 rows x 38 columns]"
      ]
     },
     "execution_count": 24,
     "metadata": {},
     "output_type": "execute_result"
    }
   ],
   "source": [
    "# Dropping the dependent varibale - overall\n",
    "selected_features = trainingData.drop('overall', axis=1)\n",
    "selected_features"
   ]
  },
  {
   "cell_type": "code",
   "execution_count": 25,
   "metadata": {
    "id": "mGR4Z3A2jpFd"
   },
   "outputs": [],
   "source": [
    "# Choose target and features\n",
    "y = trainingData.overall\n",
    "X = selected_features"
   ]
  },
  {
   "cell_type": "code",
   "execution_count": 26,
   "metadata": {
    "id": "OzuEHK2Ojo_K"
   },
   "outputs": [],
   "source": [
    "# split data into training and validation data, for both features and target\n",
    "# The split is based on a random number generator. Supplying a numeric value to\n",
    "# the random_state argument guarantees we get the same split every time we\n",
    "# run this script.\n",
    "from sklearn.model_selection import train_test_split\n",
    "train_X, val_X, train_y, val_y = train_test_split(X, y,random_state = 0)"
   ]
  },
  {
   "cell_type": "code",
   "execution_count": 27,
   "metadata": {
    "colab": {
     "base_uri": "https://localhost:8080/"
    },
    "id": "10IDQCSclP-h",
    "outputId": "b0fd2a24-cc6f-4c65-b910-c08db325fadd"
   },
   "outputs": [
    {
     "name": "stdout",
     "output_type": "stream",
     "text": [
      "[62.   65.   73.94 ... 71.98 67.98 69.49]\n",
      "Mean absolute error = 0.28\n",
      "Mean squared error = 0.25\n"
     ]
    }
   ],
   "source": [
    "from sklearn.ensemble import RandomForestRegressor\n",
    "from sklearn.metrics import mean_absolute_error\n",
    "\n",
    "forest_model = RandomForestRegressor(random_state=1)\n",
    "forest_model.fit(train_X, train_y)\n",
    "predicted_rating = forest_model.predict(val_X)\n",
    "print(predicted_rating)\n",
    "\n",
    "import sklearn.metrics as sm\n",
    "\n",
    "mae = round(sm.mean_absolute_error(val_y, predicted_rating), 2)\n",
    "mean_square = round(sm.mean_squared_error(val_y, predicted_rating), 2)\n",
    "print(\"Mean absolute error =\", mae)\n",
    "print(\"Mean squared error =\", mean_square)\n"
   ]
  },
  {
   "cell_type": "markdown",
   "metadata": {
    "id": "CXYODASFu10G"
   },
   "source": [
    "#  Optimisation"
   ]
  },
  {
   "cell_type": "code",
   "execution_count": 28,
   "metadata": {
    "id": "oUDy4oPDjo2c"
   },
   "outputs": [],
   "source": [
    "from sklearn.feature_selection import SelectKBest, chi2\n",
    "# load data\n",
    "import sklearn.metrics as sm\n",
    "\n",
    "def get_selector(k, X, y):\n",
    "# select the 10 best features using chi-squared test\n",
    "    selector = SelectKBest(chi2, k=k)\n",
    "    X_new = selector.fit_transform(X, y)\n",
    "\n",
    "    # get the indices of the selected features\n",
    "#     selected_features1 = selected_features.columns[selector.get_support(indices=True)]\n",
    "    selected_cols = X.columns[selector.get_support()]\n",
    "    X_selected = selector.transform(X)\n",
    "    df_selected = pd.DataFrame(X_selected, columns=selected_cols)\n",
    "\n",
    "    #print(selected_features1)\n",
    "    y = trainingData.overall\n",
    "    X = df_selected\n",
    "    from sklearn.model_selection import train_test_split\n",
    "    train1_X, val1_X, train1_y, val1_y = train_test_split(X, y,random_state = 0)\n",
    "    forest_model = RandomForestRegressor(random_state=1)\n",
    "    forest_model.fit(train1_X, train1_y)\n",
    "    predicted_rating1 = forest_model.predict(val1_X)\n",
    "    print(predicted_rating1)\n",
    "    \n",
    "    mae = round(sm.mean_absolute_error(val_y, predicted_rating), 2)\n",
    "# Check accuracy score \n",
    "   \n",
    "    return mae\n",
    "\n",
    "    #print('Model accuracy score: {0:0.4f}'. format(accuracy_score(val1_y, predicted_rating1)))"
   ]
  },
  {
   "cell_type": "code",
   "execution_count": 29,
   "metadata": {
    "colab": {
     "base_uri": "https://localhost:8080/"
    },
    "id": "VMSuHIzt3paY",
    "outputId": "0e0e7076-24eb-4ea6-826f-aea21d44d1ee"
   },
   "outputs": [
    {
     "name": "stdout",
     "output_type": "stream",
     "text": [
      "[59.54249636 70.04744846 74.85722727 ... 67.27249094 64.78276711\n",
      " 72.7895    ]\n",
      "Number of selectors: 2 Mean absolute error: 0.28\n",
      "[58.48 65.01 73.62 ... 64.86 67.88 70.04]\n",
      "Number of selectors: 5 Mean absolute error: 0.28\n",
      "[62.72 65.31 72.8  ... 68.17 68.84 69.85]\n",
      "Number of selectors: 8 Mean absolute error: 0.28\n",
      "[63.41 65.09 72.41 ... 67.32 69.12 69.75]\n",
      "Number of selectors: 10 Mean absolute error: 0.28\n",
      "[62.99 64.98 72.62 ... 67.37 69.31 69.77]\n",
      "Number of selectors: 13 Mean absolute error: 0.28\n",
      "[62.65 65.79 72.92 ... 67.19 69.52 69.63]\n",
      "Number of selectors: 15 Mean absolute error: 0.28\n",
      "[62.53 65.69 72.87 ... 67.3  69.63 69.58]\n",
      "Number of selectors: 17 Mean absolute error: 0.28\n",
      "[62.7  65.15 73.36 ... 68.11 68.32 69.36]\n",
      "Number of selectors: 20 Mean absolute error: 0.28\n",
      "[62.72 65.16 73.34 ... 68.26 68.24 69.37]\n",
      "Number of selectors: 21 Mean absolute error: 0.28\n",
      "[62.2  65.28 73.35 ... 67.96 68.11 68.91]\n",
      "Number of selectors: 30 Mean absolute error: 0.28\n",
      "[62.19 65.23 73.28 ... 67.93 68.08 68.87]\n",
      "Number of selectors: 35 Mean absolute error: 0.28\n",
      "[62.   65.   73.94 ... 71.98 67.98 69.49]\n",
      "Number of selectors: 38 Mean absolute error: 0.28\n"
     ]
    }
   ],
   "source": [
    "#Looping through different values of k\n",
    "# to deduce how the accuracy is affected\n",
    "for k in [2,5, 8,10, 13, 15, 17, 20, 21, 30, 35, 38]:\n",
    "    get_selector1 = get_selector(k, X, y)\n",
    "    print(\"Number of selectors: \" + str(k) + \" Mean absolute error: \" + str(get_selector1))"
   ]
  },
  {
   "cell_type": "markdown",
   "metadata": {
    "id": "0kMbZPW5y_7P"
   },
   "source": [
    "### Fine Turning"
   ]
  },
  {
   "cell_type": "code",
   "execution_count": 30,
   "metadata": {
    "id": "Bty6Tj233pNh"
   },
   "outputs": [],
   "source": [
    "def get_mae(n_estimators, train_X, val_X, train_y, val_y):\n",
    "    forest_model = RandomForestRegressor(n_estimators=n_estimators, max_depth=25, max_features=30, random_state=1)\n",
    "    forest_model.fit(train_X, train_y)\n",
    "    predicted_rating = forest_model.predict(val_X)\n",
    "    print(predicted_rating)\n",
    "    mae = sm.mean_absolute_error(val_y, predicted_rating)\n",
    "    #print(mae)\n",
    "    return mae"
   ]
  },
  {
   "cell_type": "code",
   "execution_count": 45,
   "metadata": {},
   "outputs": [
    {
     "data": {
      "text/plain": [
       "['rf_model.sav']"
      ]
     },
     "execution_count": 45,
     "metadata": {},
     "output_type": "execute_result"
    }
   ],
   "source": [
    "import joblib\n",
    "joblib.dump(forest_model,'rf_model.sav')"
   ]
  },
  {
   "cell_type": "code",
   "execution_count": 31,
   "metadata": {
    "colab": {
     "base_uri": "https://localhost:8080/"
    },
    "id": "J2Fj2LkK3pAk",
    "outputId": "54d61da9-14f5-4a08-ef84-96d2db46279b"
   },
   "outputs": [
    {
     "name": "stdout",
     "output_type": "stream",
     "text": [
      "[61.95813953 64.98604651 73.8744186  ... 71.86511628 67.98139535\n",
      " 69.47906977]\n",
      "Max leaf nodes: 215 Mean absolute error: 0.28559502973456463\n",
      "[61.95666667 64.98666667 73.87333333 ... 71.84333333 67.97333333\n",
      " 69.5       ]\n",
      "Max leaf nodes: 300 Mean absolute error: 0.2856203049203047\n"
     ]
    }
   ],
   "source": [
    "# compare MAE with differing values of max_leaf_nodes\n",
    "for n_estimators in [215, 300]:\n",
    "    my_mae = get_mae(n_estimators, train_X, val_X, train_y, val_y)\n",
    "    print(\"Max leaf nodes: \" + str(n_estimators) + \" Mean absolute error: \" + str(my_mae))\n",
    "    #print(\"Max leaf nodes: %d  \\t\\t Mean Absolute Error:  %d\" %(n_estimators, my_mae))"
   ]
  },
  {
   "cell_type": "markdown",
   "metadata": {
    "id": "pjMbTppf2QPt"
   },
   "source": [
    "### 5. Use the data from another season which was not used during the training to test how good the model is."
   ]
  },
  {
   "cell_type": "code",
   "execution_count": null,
   "metadata": {
    "colab": {
     "base_uri": "https://localhost:8080/",
     "height": 73
    },
    "id": "SpPp1K4B2L7M",
    "outputId": "59ca8c6d-32e0-4fa0-a6cd-7280c729b522"
   },
   "outputs": [],
   "source": []
  },
  {
   "cell_type": "code",
   "execution_count": 32,
   "metadata": {
    "id": "TSsTSouW5gFb"
   },
   "outputs": [
    {
     "name": "stderr",
     "output_type": "stream",
     "text": [
      "/tmp/ipykernel_31283/2311378527.py:2: DtypeWarning: Columns (25,108) have mixed types. Specify dtype option on import or set low_memory=False.\n",
      "  testing_data = pd.read_csv('players_22.csv')\n"
     ]
    }
   ],
   "source": [
    "# Creating a dataframe of 2021 \n",
    "testing_data = pd.read_csv('players_22.csv')"
   ]
  },
  {
   "cell_type": "code",
   "execution_count": 33,
   "metadata": {
    "colab": {
     "base_uri": "https://localhost:8080/",
     "height": 473
    },
    "id": "Vs5zyRm-2LwP",
    "outputId": "26bd5a10-4eae-45ec-a625-d1a351d5a31f"
   },
   "outputs": [
    {
     "data": {
      "text/html": [
       "<div>\n",
       "<style scoped>\n",
       "    .dataframe tbody tr th:only-of-type {\n",
       "        vertical-align: middle;\n",
       "    }\n",
       "\n",
       "    .dataframe tbody tr th {\n",
       "        vertical-align: top;\n",
       "    }\n",
       "\n",
       "    .dataframe thead th {\n",
       "        text-align: right;\n",
       "    }\n",
       "</style>\n",
       "<table border=\"1\" class=\"dataframe\">\n",
       "  <thead>\n",
       "    <tr style=\"text-align: right;\">\n",
       "      <th></th>\n",
       "      <th>sofifa_id</th>\n",
       "      <th>player_url</th>\n",
       "      <th>short_name</th>\n",
       "      <th>long_name</th>\n",
       "      <th>player_positions</th>\n",
       "      <th>overall</th>\n",
       "      <th>potential</th>\n",
       "      <th>value_eur</th>\n",
       "      <th>wage_eur</th>\n",
       "      <th>age</th>\n",
       "      <th>...</th>\n",
       "      <th>lcb</th>\n",
       "      <th>cb</th>\n",
       "      <th>rcb</th>\n",
       "      <th>rb</th>\n",
       "      <th>gk</th>\n",
       "      <th>player_face_url</th>\n",
       "      <th>club_logo_url</th>\n",
       "      <th>club_flag_url</th>\n",
       "      <th>nation_logo_url</th>\n",
       "      <th>nation_flag_url</th>\n",
       "    </tr>\n",
       "  </thead>\n",
       "  <tbody>\n",
       "    <tr>\n",
       "      <th>0</th>\n",
       "      <td>158023</td>\n",
       "      <td>https://sofifa.com/player/158023/lionel-messi/...</td>\n",
       "      <td>L. Messi</td>\n",
       "      <td>Lionel Andrés Messi Cuccittini</td>\n",
       "      <td>RW, ST, CF</td>\n",
       "      <td>93</td>\n",
       "      <td>93</td>\n",
       "      <td>78000000.0</td>\n",
       "      <td>320000.0</td>\n",
       "      <td>34</td>\n",
       "      <td>...</td>\n",
       "      <td>50+3</td>\n",
       "      <td>50+3</td>\n",
       "      <td>50+3</td>\n",
       "      <td>61+3</td>\n",
       "      <td>19+3</td>\n",
       "      <td>https://cdn.sofifa.net/players/158/023/22_120.png</td>\n",
       "      <td>https://cdn.sofifa.net/teams/73/60.png</td>\n",
       "      <td>https://cdn.sofifa.net/flags/fr.png</td>\n",
       "      <td>https://cdn.sofifa.net/teams/1369/60.png</td>\n",
       "      <td>https://cdn.sofifa.net/flags/ar.png</td>\n",
       "    </tr>\n",
       "    <tr>\n",
       "      <th>1</th>\n",
       "      <td>188545</td>\n",
       "      <td>https://sofifa.com/player/188545/robert-lewand...</td>\n",
       "      <td>R. Lewandowski</td>\n",
       "      <td>Robert Lewandowski</td>\n",
       "      <td>ST</td>\n",
       "      <td>92</td>\n",
       "      <td>92</td>\n",
       "      <td>119500000.0</td>\n",
       "      <td>270000.0</td>\n",
       "      <td>32</td>\n",
       "      <td>...</td>\n",
       "      <td>60+3</td>\n",
       "      <td>60+3</td>\n",
       "      <td>60+3</td>\n",
       "      <td>61+3</td>\n",
       "      <td>19+3</td>\n",
       "      <td>https://cdn.sofifa.net/players/188/545/22_120.png</td>\n",
       "      <td>https://cdn.sofifa.net/teams/21/60.png</td>\n",
       "      <td>https://cdn.sofifa.net/flags/de.png</td>\n",
       "      <td>https://cdn.sofifa.net/teams/1353/60.png</td>\n",
       "      <td>https://cdn.sofifa.net/flags/pl.png</td>\n",
       "    </tr>\n",
       "    <tr>\n",
       "      <th>2</th>\n",
       "      <td>20801</td>\n",
       "      <td>https://sofifa.com/player/20801/c-ronaldo-dos-...</td>\n",
       "      <td>Cristiano Ronaldo</td>\n",
       "      <td>Cristiano Ronaldo dos Santos Aveiro</td>\n",
       "      <td>ST, LW</td>\n",
       "      <td>91</td>\n",
       "      <td>91</td>\n",
       "      <td>45000000.0</td>\n",
       "      <td>270000.0</td>\n",
       "      <td>36</td>\n",
       "      <td>...</td>\n",
       "      <td>53+3</td>\n",
       "      <td>53+3</td>\n",
       "      <td>53+3</td>\n",
       "      <td>60+3</td>\n",
       "      <td>20+3</td>\n",
       "      <td>https://cdn.sofifa.net/players/020/801/22_120.png</td>\n",
       "      <td>https://cdn.sofifa.net/teams/11/60.png</td>\n",
       "      <td>https://cdn.sofifa.net/flags/gb-eng.png</td>\n",
       "      <td>https://cdn.sofifa.net/teams/1354/60.png</td>\n",
       "      <td>https://cdn.sofifa.net/flags/pt.png</td>\n",
       "    </tr>\n",
       "    <tr>\n",
       "      <th>3</th>\n",
       "      <td>190871</td>\n",
       "      <td>https://sofifa.com/player/190871/neymar-da-sil...</td>\n",
       "      <td>Neymar Jr</td>\n",
       "      <td>Neymar da Silva Santos Júnior</td>\n",
       "      <td>LW, CAM</td>\n",
       "      <td>91</td>\n",
       "      <td>91</td>\n",
       "      <td>129000000.0</td>\n",
       "      <td>270000.0</td>\n",
       "      <td>29</td>\n",
       "      <td>...</td>\n",
       "      <td>50+3</td>\n",
       "      <td>50+3</td>\n",
       "      <td>50+3</td>\n",
       "      <td>62+3</td>\n",
       "      <td>20+3</td>\n",
       "      <td>https://cdn.sofifa.net/players/190/871/22_120.png</td>\n",
       "      <td>https://cdn.sofifa.net/teams/73/60.png</td>\n",
       "      <td>https://cdn.sofifa.net/flags/fr.png</td>\n",
       "      <td>NaN</td>\n",
       "      <td>https://cdn.sofifa.net/flags/br.png</td>\n",
       "    </tr>\n",
       "    <tr>\n",
       "      <th>4</th>\n",
       "      <td>192985</td>\n",
       "      <td>https://sofifa.com/player/192985/kevin-de-bruy...</td>\n",
       "      <td>K. De Bruyne</td>\n",
       "      <td>Kevin De Bruyne</td>\n",
       "      <td>CM, CAM</td>\n",
       "      <td>91</td>\n",
       "      <td>91</td>\n",
       "      <td>125500000.0</td>\n",
       "      <td>350000.0</td>\n",
       "      <td>30</td>\n",
       "      <td>...</td>\n",
       "      <td>69+3</td>\n",
       "      <td>69+3</td>\n",
       "      <td>69+3</td>\n",
       "      <td>75+3</td>\n",
       "      <td>21+3</td>\n",
       "      <td>https://cdn.sofifa.net/players/192/985/22_120.png</td>\n",
       "      <td>https://cdn.sofifa.net/teams/10/60.png</td>\n",
       "      <td>https://cdn.sofifa.net/flags/gb-eng.png</td>\n",
       "      <td>https://cdn.sofifa.net/teams/1325/60.png</td>\n",
       "      <td>https://cdn.sofifa.net/flags/be.png</td>\n",
       "    </tr>\n",
       "  </tbody>\n",
       "</table>\n",
       "<p>5 rows × 110 columns</p>\n",
       "</div>"
      ],
      "text/plain": [
       "   sofifa_id                                         player_url  \\\n",
       "0     158023  https://sofifa.com/player/158023/lionel-messi/...   \n",
       "1     188545  https://sofifa.com/player/188545/robert-lewand...   \n",
       "2      20801  https://sofifa.com/player/20801/c-ronaldo-dos-...   \n",
       "3     190871  https://sofifa.com/player/190871/neymar-da-sil...   \n",
       "4     192985  https://sofifa.com/player/192985/kevin-de-bruy...   \n",
       "\n",
       "          short_name                            long_name player_positions  \\\n",
       "0           L. Messi       Lionel Andrés Messi Cuccittini       RW, ST, CF   \n",
       "1     R. Lewandowski                   Robert Lewandowski               ST   \n",
       "2  Cristiano Ronaldo  Cristiano Ronaldo dos Santos Aveiro           ST, LW   \n",
       "3          Neymar Jr        Neymar da Silva Santos Júnior          LW, CAM   \n",
       "4       K. De Bruyne                      Kevin De Bruyne          CM, CAM   \n",
       "\n",
       "   overall  potential    value_eur  wage_eur  age  ...   lcb    cb   rcb  \\\n",
       "0       93         93   78000000.0  320000.0   34  ...  50+3  50+3  50+3   \n",
       "1       92         92  119500000.0  270000.0   32  ...  60+3  60+3  60+3   \n",
       "2       91         91   45000000.0  270000.0   36  ...  53+3  53+3  53+3   \n",
       "3       91         91  129000000.0  270000.0   29  ...  50+3  50+3  50+3   \n",
       "4       91         91  125500000.0  350000.0   30  ...  69+3  69+3  69+3   \n",
       "\n",
       "     rb    gk                                    player_face_url  \\\n",
       "0  61+3  19+3  https://cdn.sofifa.net/players/158/023/22_120.png   \n",
       "1  61+3  19+3  https://cdn.sofifa.net/players/188/545/22_120.png   \n",
       "2  60+3  20+3  https://cdn.sofifa.net/players/020/801/22_120.png   \n",
       "3  62+3  20+3  https://cdn.sofifa.net/players/190/871/22_120.png   \n",
       "4  75+3  21+3  https://cdn.sofifa.net/players/192/985/22_120.png   \n",
       "\n",
       "                            club_logo_url  \\\n",
       "0  https://cdn.sofifa.net/teams/73/60.png   \n",
       "1  https://cdn.sofifa.net/teams/21/60.png   \n",
       "2  https://cdn.sofifa.net/teams/11/60.png   \n",
       "3  https://cdn.sofifa.net/teams/73/60.png   \n",
       "4  https://cdn.sofifa.net/teams/10/60.png   \n",
       "\n",
       "                             club_flag_url  \\\n",
       "0      https://cdn.sofifa.net/flags/fr.png   \n",
       "1      https://cdn.sofifa.net/flags/de.png   \n",
       "2  https://cdn.sofifa.net/flags/gb-eng.png   \n",
       "3      https://cdn.sofifa.net/flags/fr.png   \n",
       "4  https://cdn.sofifa.net/flags/gb-eng.png   \n",
       "\n",
       "                            nation_logo_url  \\\n",
       "0  https://cdn.sofifa.net/teams/1369/60.png   \n",
       "1  https://cdn.sofifa.net/teams/1353/60.png   \n",
       "2  https://cdn.sofifa.net/teams/1354/60.png   \n",
       "3                                       NaN   \n",
       "4  https://cdn.sofifa.net/teams/1325/60.png   \n",
       "\n",
       "                       nation_flag_url  \n",
       "0  https://cdn.sofifa.net/flags/ar.png  \n",
       "1  https://cdn.sofifa.net/flags/pl.png  \n",
       "2  https://cdn.sofifa.net/flags/pt.png  \n",
       "3  https://cdn.sofifa.net/flags/br.png  \n",
       "4  https://cdn.sofifa.net/flags/be.png  \n",
       "\n",
       "[5 rows x 110 columns]"
      ]
     },
     "execution_count": 33,
     "metadata": {},
     "output_type": "execute_result"
    }
   ],
   "source": [
    "# Printing the first 5 entries in the dataset \n",
    "# to see how the dataset looks like\n",
    "testing_data.head()"
   ]
  },
  {
   "cell_type": "code",
   "execution_count": 34,
   "metadata": {
    "colab": {
     "base_uri": "https://localhost:8080/"
    },
    "id": "ubGZfLyA2Lkz",
    "outputId": "d07a176a-a14b-4ae0-cb22-198f73e05407"
   },
   "outputs": [
    {
     "name": "stdout",
     "output_type": "stream",
     "text": [
      "club_loaned_from - 94%\n",
      "nation_team_id - 96%\n",
      "nation_position - 96%\n",
      "nation_jersey_number - 96%\n",
      "player_tags - 93%\n",
      "goalkeeping_speed - 89%\n",
      "nation_logo_url - 96%\n",
      "Columns dropped :  \n",
      "\n",
      " ['club_loaned_from', 'nation_team_id', 'nation_position', 'nation_jersey_number', 'player_tags', 'goalkeeping_speed', 'nation_logo_url']\n"
     ]
    }
   ],
   "source": [
    "# Dropping all columns with  missing values greater than 60\n",
    "missingData(testing_data)"
   ]
  },
  {
   "cell_type": "code",
   "execution_count": 35,
   "metadata": {
    "id": "WnWqJSTH6EKj"
   },
   "outputs": [],
   "source": [
    "# Imouting all the missing cells\n",
    "replace_missing_values(testing_data)"
   ]
  },
  {
   "cell_type": "code",
   "execution_count": 36,
   "metadata": {
    "colab": {
     "base_uri": "https://localhost:8080/"
    },
    "id": "3tRN8Qyf6ECr",
    "outputId": "e371c670-2cce-459b-fd24-ed1dd2308c3c"
   },
   "outputs": [
    {
     "name": "stdout",
     "output_type": "stream",
     "text": [
      "0\n"
     ]
    }
   ],
   "source": [
    "# Get the count of missing values per row\n",
    "missing_per_row = testing_data.isnull().sum(axis=1)\n",
    "\n",
    "# Get the total number of rows with missing values\n",
    "total_missing_rows = len(missing_per_row[missing_per_row > 0])\n",
    "\n",
    "print(total_missing_rows)"
   ]
  },
  {
   "cell_type": "code",
   "execution_count": 37,
   "metadata": {
    "id": "zvTuZjb071B8"
   },
   "outputs": [],
   "source": [
    "# An array psostion relevant to the model testing\n",
    "POSITIONS = [\n",
    " 'lcm',\n",
    " 'rcm',\n",
    " 'cm',\n",
    " 'ram',\n",
    " 'lam',\n",
    " 'cam',\n",
    " 'ls',\n",
    " 'st',\n",
    " 'rs',\n",
    " 'rdm',\n",
    " 'cdm',\n",
    " 'ldm',\n",
    " 'lf',\n",
    " 'cf',\n",
    " 'rf',\n",
    " 'lm',\n",
    " 'rm',\n",
    " 'rwb',\n",
    " 'lwb',\n",
    " 'rw',\n",
    " 'lw',\n",
    "]"
   ]
  },
  {
   "cell_type": "code",
   "execution_count": 38,
   "metadata": {
    "id": "BKekJGem6D3i"
   },
   "outputs": [],
   "source": [
    "# Handling players positions feature\n",
    "# present in the dataset\n",
    "def split_position(position_skill):\n",
    "    parts = position_skill.split('+') if '+' in position_skill else position_skill.split('-') if '-' in position_skill else position_skill.split()\n",
    "    general = int(parts[0])\n",
    "    variation = 0 if len(parts) == 1 else int(parts[1]) if '+' in position_skill else -int(parts[1])\n",
    "    return general, variation"
   ]
  },
  {
   "cell_type": "code",
   "execution_count": 39,
   "metadata": {
    "colab": {
     "base_uri": "https://localhost:8080/"
    },
    "id": "CXgTjk_Y6D0F",
    "outputId": "614c4e9e-8be7-4fd4-84e8-7b2de6074e93"
   },
   "outputs": [
    {
     "name": "stderr",
     "output_type": "stream",
     "text": [
      "<magic-timeit>:4: PerformanceWarning: DataFrame is highly fragmented.  This is usually the result of calling `frame.insert` many times, which has poor performance.  Consider joining all columns at once using pd.concat(axis=1) instead. To get a de-fragmented frame, use `newframe = frame.copy()`\n",
      "<magic-timeit>:4: PerformanceWarning: DataFrame is highly fragmented.  This is usually the result of calling `frame.insert` many times, which has poor performance.  Consider joining all columns at once using pd.concat(axis=1) instead. To get a de-fragmented frame, use `newframe = frame.copy()`\n",
      "<magic-timeit>:4: PerformanceWarning: DataFrame is highly fragmented.  This is usually the result of calling `frame.insert` many times, which has poor performance.  Consider joining all columns at once using pd.concat(axis=1) instead. To get a de-fragmented frame, use `newframe = frame.copy()`\n",
      "<magic-timeit>:4: PerformanceWarning: DataFrame is highly fragmented.  This is usually the result of calling `frame.insert` many times, which has poor performance.  Consider joining all columns at once using pd.concat(axis=1) instead. To get a de-fragmented frame, use `newframe = frame.copy()`\n",
      "<magic-timeit>:4: PerformanceWarning: DataFrame is highly fragmented.  This is usually the result of calling `frame.insert` many times, which has poor performance.  Consider joining all columns at once using pd.concat(axis=1) instead. To get a de-fragmented frame, use `newframe = frame.copy()`\n",
      "<magic-timeit>:4: PerformanceWarning: DataFrame is highly fragmented.  This is usually the result of calling `frame.insert` many times, which has poor performance.  Consider joining all columns at once using pd.concat(axis=1) instead. To get a de-fragmented frame, use `newframe = frame.copy()`\n",
      "<magic-timeit>:4: PerformanceWarning: DataFrame is highly fragmented.  This is usually the result of calling `frame.insert` many times, which has poor performance.  Consider joining all columns at once using pd.concat(axis=1) instead. To get a de-fragmented frame, use `newframe = frame.copy()`\n",
      "<magic-timeit>:4: PerformanceWarning: DataFrame is highly fragmented.  This is usually the result of calling `frame.insert` many times, which has poor performance.  Consider joining all columns at once using pd.concat(axis=1) instead. To get a de-fragmented frame, use `newframe = frame.copy()`\n",
      "<magic-timeit>:4: PerformanceWarning: DataFrame is highly fragmented.  This is usually the result of calling `frame.insert` many times, which has poor performance.  Consider joining all columns at once using pd.concat(axis=1) instead. To get a de-fragmented frame, use `newframe = frame.copy()`\n",
      "<magic-timeit>:4: PerformanceWarning: DataFrame is highly fragmented.  This is usually the result of calling `frame.insert` many times, which has poor performance.  Consider joining all columns at once using pd.concat(axis=1) instead. To get a de-fragmented frame, use `newframe = frame.copy()`\n",
      "<magic-timeit>:4: PerformanceWarning: DataFrame is highly fragmented.  This is usually the result of calling `frame.insert` many times, which has poor performance.  Consider joining all columns at once using pd.concat(axis=1) instead. To get a de-fragmented frame, use `newframe = frame.copy()`\n",
      "<magic-timeit>:4: PerformanceWarning: DataFrame is highly fragmented.  This is usually the result of calling `frame.insert` many times, which has poor performance.  Consider joining all columns at once using pd.concat(axis=1) instead. To get a de-fragmented frame, use `newframe = frame.copy()`\n",
      "<magic-timeit>:4: PerformanceWarning: DataFrame is highly fragmented.  This is usually the result of calling `frame.insert` many times, which has poor performance.  Consider joining all columns at once using pd.concat(axis=1) instead. To get a de-fragmented frame, use `newframe = frame.copy()`\n",
      "<magic-timeit>:4: PerformanceWarning: DataFrame is highly fragmented.  This is usually the result of calling `frame.insert` many times, which has poor performance.  Consider joining all columns at once using pd.concat(axis=1) instead. To get a de-fragmented frame, use `newframe = frame.copy()`\n",
      "<magic-timeit>:4: PerformanceWarning: DataFrame is highly fragmented.  This is usually the result of calling `frame.insert` many times, which has poor performance.  Consider joining all columns at once using pd.concat(axis=1) instead. To get a de-fragmented frame, use `newframe = frame.copy()`\n",
      "<magic-timeit>:4: PerformanceWarning: DataFrame is highly fragmented.  This is usually the result of calling `frame.insert` many times, which has poor performance.  Consider joining all columns at once using pd.concat(axis=1) instead. To get a de-fragmented frame, use `newframe = frame.copy()`\n",
      "<magic-timeit>:4: PerformanceWarning: DataFrame is highly fragmented.  This is usually the result of calling `frame.insert` many times, which has poor performance.  Consider joining all columns at once using pd.concat(axis=1) instead. To get a de-fragmented frame, use `newframe = frame.copy()`\n",
      "<magic-timeit>:4: PerformanceWarning: DataFrame is highly fragmented.  This is usually the result of calling `frame.insert` many times, which has poor performance.  Consider joining all columns at once using pd.concat(axis=1) instead. To get a de-fragmented frame, use `newframe = frame.copy()`\n",
      "<magic-timeit>:4: PerformanceWarning: DataFrame is highly fragmented.  This is usually the result of calling `frame.insert` many times, which has poor performance.  Consider joining all columns at once using pd.concat(axis=1) instead. To get a de-fragmented frame, use `newframe = frame.copy()`\n",
      "<magic-timeit>:4: PerformanceWarning: DataFrame is highly fragmented.  This is usually the result of calling `frame.insert` many times, which has poor performance.  Consider joining all columns at once using pd.concat(axis=1) instead. To get a de-fragmented frame, use `newframe = frame.copy()`\n"
     ]
    },
    {
     "name": "stdout",
     "output_type": "stream",
     "text": [
      "855 µs ± 169 µs per loop (mean ± std. dev. of 7 runs, 1 loop each)\n"
     ]
    },
    {
     "name": "stderr",
     "output_type": "stream",
     "text": [
      "<magic-timeit>:4: PerformanceWarning: DataFrame is highly fragmented.  This is usually the result of calling `frame.insert` many times, which has poor performance.  Consider joining all columns at once using pd.concat(axis=1) instead. To get a de-fragmented frame, use `newframe = frame.copy()`\n"
     ]
    }
   ],
   "source": [
    "%%timeit\n",
    "\n",
    "# Convert str to int\n",
    "for pos in POSITIONS:\n",
    "    try:\n",
    "        testing_data[[pos, f'variation_{pos}']] = testing_data[pos].apply(split_position).apply(pd.Series)\n",
    "        testing_data[pos] = testing_data[pos] + testing_data[f'variation_{pos}']\n",
    "        testing_data.drop([f'variation_{pos}'], axis=1, inplace = True)\n",
    "    except:\n",
    "        break"
   ]
  },
  {
   "cell_type": "code",
   "execution_count": 40,
   "metadata": {
    "colab": {
     "base_uri": "https://localhost:8080/"
    },
    "id": "DMaHma326Dwa",
    "outputId": "d34f513f-d31a-4757-b992-71da31ee8de5"
   },
   "outputs": [
    {
     "name": "stdout",
     "output_type": "stream",
     "text": [
      "          short_name  player_positions_count\n",
      "0           L. Messi                       3\n",
      "1     R. Lewandowski                       1\n",
      "2  Cristiano Ronaldo                       2\n",
      "3          Neymar Jr                       2\n",
      "4       K. De Bruyne                       2\n"
     ]
    }
   ],
   "source": [
    "# Encoding the players positions\n",
    "player_position(testing_data)"
   ]
  },
  {
   "cell_type": "code",
   "execution_count": 41,
   "metadata": {
    "id": "O9rp1Exv9NA2"
   },
   "outputs": [],
   "source": [
    "# Encoding relevent categorical attributes\n",
    "encoding(testing_data)"
   ]
  },
  {
   "cell_type": "code",
   "execution_count": 42,
   "metadata": {
    "colab": {
     "base_uri": "https://localhost:8080/",
     "height": 300
    },
    "id": "nxLDyVKO9M47",
    "outputId": "71c80cfd-05a9-4b53-835b-683176a46e77"
   },
   "outputs": [
    {
     "data": {
      "text/html": [
       "<div>\n",
       "<style scoped>\n",
       "    .dataframe tbody tr th:only-of-type {\n",
       "        vertical-align: middle;\n",
       "    }\n",
       "\n",
       "    .dataframe tbody tr th {\n",
       "        vertical-align: top;\n",
       "    }\n",
       "\n",
       "    .dataframe thead th {\n",
       "        text-align: right;\n",
       "    }\n",
       "</style>\n",
       "<table border=\"1\" class=\"dataframe\">\n",
       "  <thead>\n",
       "    <tr style=\"text-align: right;\">\n",
       "      <th></th>\n",
       "      <th>movement_reactions</th>\n",
       "      <th>mentality_composure</th>\n",
       "      <th>passing</th>\n",
       "      <th>potential</th>\n",
       "      <th>dribbling</th>\n",
       "      <th>wage_eur</th>\n",
       "      <th>power_shot_power</th>\n",
       "      <th>value_eur</th>\n",
       "      <th>lcm</th>\n",
       "      <th>rcm</th>\n",
       "      <th>...</th>\n",
       "      <th>lm</th>\n",
       "      <th>rm</th>\n",
       "      <th>international_reputation</th>\n",
       "      <th>skill_ball_control</th>\n",
       "      <th>age</th>\n",
       "      <th>rwb</th>\n",
       "      <th>lwb</th>\n",
       "      <th>rw</th>\n",
       "      <th>lw</th>\n",
       "      <th>shooting</th>\n",
       "    </tr>\n",
       "  </thead>\n",
       "  <tbody>\n",
       "    <tr>\n",
       "      <th>0</th>\n",
       "      <td>94</td>\n",
       "      <td>96</td>\n",
       "      <td>91.0</td>\n",
       "      <td>93</td>\n",
       "      <td>95.0</td>\n",
       "      <td>320000.0</td>\n",
       "      <td>86</td>\n",
       "      <td>78000000.0</td>\n",
       "      <td>90</td>\n",
       "      <td>90</td>\n",
       "      <td>...</td>\n",
       "      <td>93</td>\n",
       "      <td>93</td>\n",
       "      <td>5</td>\n",
       "      <td>96</td>\n",
       "      <td>34</td>\n",
       "      <td>69</td>\n",
       "      <td>69</td>\n",
       "      <td>92</td>\n",
       "      <td>92</td>\n",
       "      <td>92.0</td>\n",
       "    </tr>\n",
       "    <tr>\n",
       "      <th>1</th>\n",
       "      <td>93</td>\n",
       "      <td>88</td>\n",
       "      <td>79.0</td>\n",
       "      <td>92</td>\n",
       "      <td>86.0</td>\n",
       "      <td>270000.0</td>\n",
       "      <td>90</td>\n",
       "      <td>119500000.0</td>\n",
       "      <td>83</td>\n",
       "      <td>83</td>\n",
       "      <td>...</td>\n",
       "      <td>87</td>\n",
       "      <td>87</td>\n",
       "      <td>5</td>\n",
       "      <td>88</td>\n",
       "      <td>32</td>\n",
       "      <td>67</td>\n",
       "      <td>67</td>\n",
       "      <td>85</td>\n",
       "      <td>85</td>\n",
       "      <td>92.0</td>\n",
       "    </tr>\n",
       "    <tr>\n",
       "      <th>2</th>\n",
       "      <td>94</td>\n",
       "      <td>95</td>\n",
       "      <td>80.0</td>\n",
       "      <td>91</td>\n",
       "      <td>88.0</td>\n",
       "      <td>270000.0</td>\n",
       "      <td>94</td>\n",
       "      <td>45000000.0</td>\n",
       "      <td>81</td>\n",
       "      <td>81</td>\n",
       "      <td>...</td>\n",
       "      <td>89</td>\n",
       "      <td>89</td>\n",
       "      <td>5</td>\n",
       "      <td>88</td>\n",
       "      <td>36</td>\n",
       "      <td>66</td>\n",
       "      <td>66</td>\n",
       "      <td>88</td>\n",
       "      <td>88</td>\n",
       "      <td>94.0</td>\n",
       "    </tr>\n",
       "    <tr>\n",
       "      <th>3</th>\n",
       "      <td>89</td>\n",
       "      <td>93</td>\n",
       "      <td>86.0</td>\n",
       "      <td>91</td>\n",
       "      <td>94.0</td>\n",
       "      <td>270000.0</td>\n",
       "      <td>80</td>\n",
       "      <td>129000000.0</td>\n",
       "      <td>85</td>\n",
       "      <td>85</td>\n",
       "      <td>...</td>\n",
       "      <td>91</td>\n",
       "      <td>91</td>\n",
       "      <td>5</td>\n",
       "      <td>95</td>\n",
       "      <td>29</td>\n",
       "      <td>70</td>\n",
       "      <td>70</td>\n",
       "      <td>90</td>\n",
       "      <td>90</td>\n",
       "      <td>83.0</td>\n",
       "    </tr>\n",
       "    <tr>\n",
       "      <th>4</th>\n",
       "      <td>91</td>\n",
       "      <td>89</td>\n",
       "      <td>93.0</td>\n",
       "      <td>91</td>\n",
       "      <td>88.0</td>\n",
       "      <td>350000.0</td>\n",
       "      <td>91</td>\n",
       "      <td>125500000.0</td>\n",
       "      <td>91</td>\n",
       "      <td>91</td>\n",
       "      <td>...</td>\n",
       "      <td>91</td>\n",
       "      <td>91</td>\n",
       "      <td>4</td>\n",
       "      <td>91</td>\n",
       "      <td>30</td>\n",
       "      <td>82</td>\n",
       "      <td>82</td>\n",
       "      <td>88</td>\n",
       "      <td>88</td>\n",
       "      <td>86.0</td>\n",
       "    </tr>\n",
       "  </tbody>\n",
       "</table>\n",
       "<p>5 rows × 38 columns</p>\n",
       "</div>"
      ],
      "text/plain": [
       "   movement_reactions  mentality_composure  passing  potential  dribbling  \\\n",
       "0                  94                   96     91.0         93       95.0   \n",
       "1                  93                   88     79.0         92       86.0   \n",
       "2                  94                   95     80.0         91       88.0   \n",
       "3                  89                   93     86.0         91       94.0   \n",
       "4                  91                   89     93.0         91       88.0   \n",
       "\n",
       "   wage_eur  power_shot_power    value_eur  lcm  rcm  ...  lm  rm  \\\n",
       "0  320000.0                86   78000000.0   90   90  ...  93  93   \n",
       "1  270000.0                90  119500000.0   83   83  ...  87  87   \n",
       "2  270000.0                94   45000000.0   81   81  ...  89  89   \n",
       "3  270000.0                80  129000000.0   85   85  ...  91  91   \n",
       "4  350000.0                91  125500000.0   91   91  ...  91  91   \n",
       "\n",
       "   international_reputation  skill_ball_control  age  rwb  lwb  rw  lw  \\\n",
       "0                         5                  96   34   69   69  92  92   \n",
       "1                         5                  88   32   67   67  85  85   \n",
       "2                         5                  88   36   66   66  88  88   \n",
       "3                         5                  95   29   70   70  90  90   \n",
       "4                         4                  91   30   82   82  88  88   \n",
       "\n",
       "   shooting  \n",
       "0      92.0  \n",
       "1      92.0  \n",
       "2      94.0  \n",
       "3      83.0  \n",
       "4      86.0  \n",
       "\n",
       "[5 rows x 38 columns]"
      ]
     },
     "execution_count": 42,
     "metadata": {},
     "output_type": "execute_result"
    }
   ],
   "source": [
    "#Creating a new datasset with selected features\n",
    "testingData = testing_data[['movement_reactions',\n",
    " 'mentality_composure',\n",
    " 'passing',\n",
    " 'potential',\n",
    " 'dribbling',\n",
    " 'wage_eur',\n",
    " 'power_shot_power',\n",
    " 'value_eur',\n",
    " 'lcm',\n",
    " 'rcm',\n",
    " 'cm',\n",
    " 'release_clause_eur',\n",
    " 'mentality_vision',\n",
    " 'attacking_short_passing',\n",
    " 'skill_long_passing',\n",
    " 'ram',\n",
    " 'lam',\n",
    " 'cam',\n",
    " 'physic',\n",
    " 'ls',\n",
    " 'st',\n",
    " 'rs',\n",
    " 'rdm',\n",
    " 'cdm',\n",
    " 'ldm',\n",
    " 'lf',\n",
    " 'cf',\n",
    " 'rf',\n",
    " 'lm',\n",
    " 'rm',\n",
    " 'international_reputation',\n",
    " 'skill_ball_control',\n",
    " 'age',\n",
    " 'rwb',\n",
    " 'lwb',\n",
    " 'rw',\n",
    " 'lw',\n",
    " 'shooting']]\n",
    "testingData.head()"
   ]
  },
  {
   "cell_type": "code",
   "execution_count": 43,
   "metadata": {
    "id": "ME5geSRH9Mu1"
   },
   "outputs": [],
   "source": [
    "#Predictions for the new data\n",
    "prediction = forest_model.predict(testingData)"
   ]
  },
  {
   "cell_type": "code",
   "execution_count": 44,
   "metadata": {
    "colab": {
     "base_uri": "https://localhost:8080/"
    },
    "id": "k8wMGUEB9MjF",
    "outputId": "3f0ab352-52b9-41dc-d6d4-dc0be30e0247"
   },
   "outputs": [
    {
     "data": {
      "text/plain": [
       "array([92.1 , 91.2 , 90.1 , ..., 47.49, 48.22, 47.62])"
      ]
     },
     "execution_count": 44,
     "metadata": {},
     "output_type": "execute_result"
    }
   ],
   "source": [
    "prediction"
   ]
  }
 ],
 "metadata": {
  "colab": {
   "provenance": []
  },
  "kernelspec": {
   "display_name": "Python 3 (ipykernel)",
   "language": "python",
   "name": "python3"
  },
  "language_info": {
   "codemirror_mode": {
    "name": "ipython",
    "version": 3
   },
   "file_extension": ".py",
   "mimetype": "text/x-python",
   "name": "python",
   "nbconvert_exporter": "python",
   "pygments_lexer": "ipython3",
   "version": "3.10.6"
  }
 },
 "nbformat": 4,
 "nbformat_minor": 1
}
